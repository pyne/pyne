{
 "metadata": {
  "name": "",
  "signature": "sha256:8f0904d63a0d492f75e80316d84d846af1052a22bf1bf0d73b290e3df88c53d4"
 },
 "nbformat": 3,
 "nbformat_minor": 0,
 "worksheets": [
  {
   "cells": [
    {
     "cell_type": "heading",
     "level": 1,
     "metadata": {},
     "source": [
      "Spatial Solver Tutorial"
     ]
    },
    {
     "cell_type": "markdown",
     "metadata": {},
     "source": [
      "Spatialsolver is a pyne module that contains seven neutron transport equation solvers"
     ]
    },
    {
     "cell_type": "code",
     "collapsed": false,
     "input": [
      "import pyne\n",
      "import pyne.spatialsolver\n",
      "import numpy as np"
     ],
     "language": "python",
     "metadata": {},
     "outputs": [],
     "prompt_number": 2
    },
    {
     "cell_type": "code",
     "collapsed": false,
     "input": [
      "input_dict = {'Name': 'Jane', 'Age': 27};"
     ],
     "language": "python",
     "metadata": {},
     "outputs": [],
     "prompt_number": 3
    },
    {
     "cell_type": "markdown",
     "metadata": {},
     "source": [
      "The spatial solver module takes in a dictionary that contains all of the input information required to run the solvers.  There are many entries to allow a high degree of customization, not all of which are required.  To find which entries are required, see the spatial solver documentation in the python api."
     ]
    },
    {
     "cell_type": "code",
     "collapsed": false,
     "input": [
      "input_dict['solver'] = \"AHOTN\""
     ],
     "language": "python",
     "metadata": {},
     "outputs": [],
     "prompt_number": 4
    },
    {
     "cell_type": "markdown",
     "metadata": {},
     "source": [
      "There are many different ways to solve the neutron transport equations.  The spatial solver method supports seven different methods, described in the theory manual.  The 'solver' key allows you to select which family of these solvers you would like to use, out of the following three options.  \n",
      "    1.  \"AHOTN\" - Arbitrarily higher order transport method\n",
      "    2.  \"DGFEM\" - Discontinuous Galerkin Finite Element Method\n",
      "    3.  \"SCTSTEP\" - SCT Step algorithm similar to Duo\u2019s SCT algorithm implemented in three dimensional Cartesian geometry."
     ]
    },
    {
     "cell_type": "code",
     "collapsed": false,
     "input": [
      "input_dict['solver_type'] = \"LN\" "
     ],
     "language": "python",
     "metadata": {},
     "outputs": [],
     "prompt_number": 5
    },
    {
     "cell_type": "markdown",
     "metadata": {},
     "source": [
      "Each family of solvers except for SCTSTEP offers a number of different choices for the specific way the neutron transport equation is solved.  For full descriptions of each, consult the theory manual.\n",
      "For AHOTN, the supported solver_type's are:\n",
      "    1.  \"LN\" - Arbitrarily higher order transport method of the nodal type linear-nodal method\n",
      "    2.  \"LL\" - Arbitrarily higher order transport method of the nodal type linear-linear method\n",
      "    3.  \"NEFD\" - Arbitrarily higher order transport method of the nodal type that makes use of the unknown nodal flux moments (NEFD algorithm).\n",
      "    \n",
      "DGFEM\n",
      "    1.  \"LD\"  -  The Discontinuous Galerkin Finite Element Method (DGFEM) with a linear discontinuous (LD) approximation for angular flux.\n",
      "    2.  \"DENSE\" - The Discontinuous Galerkin Finite Element Method (DGFEM) that uses dense lagrange polynomials\n",
      "    3.  \"LAGRANGE\" - The Discontinuous Galerkin Finite Element Method (DGFEM) that use lagrange polynomials    \n",
      "    \n",
      "SCTSTEP\n",
      "\n",
      "    SCT Step algorithm similar to Duo\u2019s SCT algorithm implemented in three dimensional Cartesian geometry."
     ]
    },
    {
     "cell_type": "code",
     "collapsed": false,
     "input": [
      "input_dict['spatial_order'] = 1"
     ],
     "language": "python",
     "metadata": {},
     "outputs": [],
     "prompt_number": 6
    },
    {
     "cell_type": "markdown",
     "metadata": {},
     "source": [
      "The Spatial expansion order is the expansion order of the spatial moment.  It is also known as lambda, and for all AHOTN solvers it must be 0, 1 or 2."
     ]
    },
    {
     "cell_type": "code",
     "collapsed": false,
     "input": [
      "input_dict['angular_quadrature_order'] = 4"
     ],
     "language": "python",
     "metadata": {},
     "outputs": [],
     "prompt_number": 7
    },
    {
     "cell_type": "markdown",
     "metadata": {},
     "source": [
      "  The angular quadrature order is the number of angles to be used per octant.  \n",
      "  For N sets of angles, there will be (N * (N + 2) / 8) ordinates per octant. \n",
      "  The quadrature order may only be an even number!"
     ]
    },
    {
     "cell_type": "code",
     "collapsed": false,
     "input": [
      "input_dict['angular_quadrature_type'] = 1"
     ],
     "language": "python",
     "metadata": {},
     "outputs": [],
     "prompt_number": 8
    },
    {
     "cell_type": "markdown",
     "metadata": {},
     "source": [
      "  The quadrature type is the type of quadrature scheme the code uses.  \n",
      "  The possibilities are:\n",
      "  \n",
      "    1 - TWOTRAN\n",
      "    2 - EQN\n",
      "    3 - Read-in"
     ]
    },
    {
     "cell_type": "code",
     "collapsed": false,
     "input": [
      "input_dict['nodes_xyz'] = [4,4,4]"
     ],
     "language": "python",
     "metadata": {},
     "outputs": [],
     "prompt_number": 9
    },
    {
     "cell_type": "markdown",
     "metadata": {},
     "source": [
      "'nodes_xyz' is the number of node's in the x y and z directions.  It should be stored in a 1 by 3 array, with the following entries:<br /> \n",
      "    [0] = number of nodes in x direction (integer)<br /> \n",
      "    [1] = number of nodes in y direction (integer)<br /> \n",
      "    [2] = number of nodes in z direction (integer)"
     ]
    },
    {
     "cell_type": "code",
     "collapsed": false,
     "input": [
      "input_dict['num_groups'] = 1"
     ],
     "language": "python",
     "metadata": {},
     "outputs": [],
     "prompt_number": 10
    },
    {
     "cell_type": "markdown",
     "metadata": {},
     "source": [
      "'num_groups' specifies the number of material groups you are using in the material id and cross section files found in later entries."
     ]
    },
    {
     "cell_type": "code",
     "collapsed": false,
     "input": [
      "input_dict['num_materials'] = 1"
     ],
     "language": "python",
     "metadata": {},
     "outputs": [],
     "prompt_number": 11
    },
    {
     "cell_type": "markdown",
     "metadata": {},
     "source": [
      "'num_materials' is the number of different materials used in the mesh ('material_id')."
     ]
    },
    {
     "cell_type": "code",
     "collapsed": false,
     "input": [
      "input_dict['x_cells_widths'] = [0.25, 0.25, 0.25, 0.25]"
     ],
     "language": "python",
     "metadata": {},
     "outputs": [],
     "prompt_number": 12
    },
    {
     "cell_type": "code",
     "collapsed": false,
     "input": [
      "input_dict['y_cells_widths'] = [0.25, 0.25, 0.25, 0.25]"
     ],
     "language": "python",
     "metadata": {},
     "outputs": [],
     "prompt_number": 13
    },
    {
     "cell_type": "code",
     "collapsed": false,
     "input": [
      "input_dict['z_cells_widths'] = [0.25, 0.25, 0.25, 0.25]"
     ],
     "language": "python",
     "metadata": {},
     "outputs": [],
     "prompt_number": 14
    },
    {
     "cell_type": "markdown",
     "metadata": {},
     "source": [
      "'x_cells_widths', 'y_cells_widths', and 'z_cells_widths' are the cell widths for each cell in the x, y and z direction.  Every unique cell cannot be a unique size, adjacent edges all must match up.  Therefore, each cell width you specify is the width of all the cells in the plane orthogonal to the axis of the cell you specified.  For example, if you selected 1 to be the first entry in x_cell_width, all of the cells with x dimension 1 would be 1 unit wide. \n",
      "\n",
      "This entry takes an array, which must be 1 by the number of nodes in that specific axis, and have all entries filled."
     ]
    },
    {
     "cell_type": "code",
     "collapsed": false,
     "input": [
      "input_dict['x_boundry_conditions'] = [2, 2]"
     ],
     "language": "python",
     "metadata": {},
     "outputs": [],
     "prompt_number": 15
    },
    {
     "cell_type": "code",
     "collapsed": false,
     "input": [
      "input_dict['y_boundry_conditions'] = [2, 2]"
     ],
     "language": "python",
     "metadata": {},
     "outputs": [],
     "prompt_number": 16
    },
    {
     "cell_type": "code",
     "collapsed": false,
     "input": [
      "input_dict['z_boundry_conditions'] = [2, 2]"
     ],
     "language": "python",
     "metadata": {},
     "outputs": [],
     "prompt_number": 17
    },
    {
     "cell_type": "markdown",
     "metadata": {},
     "source": [
      "'x_boundry_conditions', 'y_boundry_conditions', and 'z_boundry_conditions' are the boundry conditions for each face of the cubic mesh.  The entries are as follows: x is the array set to the key 'x_boundry_conditions', y to 'y_boundry_conditions' and z to 'z_boundry_conditions'.\n",
      "\n",
      "    x[0] = xsbc\n",
      "    x[1] = xebc\n",
      "    y[0] = ysbc\n",
      "    y[1] = yebc\n",
      "    y[0] = zsbc\n",
      "    y[1] = zebc\n",
      "\n",
      "The following are supported boundry conditions:\n",
      "    1.  0 - vacuum\n",
      "    2.  1 - reflective\n",
      "    3.  2 - fixed inflow"
     ]
    },
    {
     "cell_type": "code",
     "collapsed": false,
     "input": [
      "input_dict['material_id'] = [ [ [1, 1, 1, 1], [1, 1, 1, 1], [1, 1, 1, 1], [1, 1, 1, 1] ], \n",
      "                              [ [1, 1, 1, 1], [1, 1, 1, 1], [1, 1, 1, 1], [1, 1, 1, 1] ],  \n",
      "                              [ [1, 1, 1, 1], [1, 1, 1, 1], [1, 1, 1, 1], [1, 1, 1, 1] ],  \n",
      "                              [ [1, 1, 1, 1], [1, 1, 1, 1], [1, 1, 1, 1], [1, 1, 1, 1] ] ]"
     ],
     "language": "python",
     "metadata": {},
     "outputs": [],
     "prompt_number": 18
    },
    {
     "cell_type": "markdown",
     "metadata": {},
     "source": [
      "'material_id' is an array containing the material infomation for the cubic mesh for which the neutron transport method is to be solved.  \n",
      "note: Dimensions must match cells such that there is one material number\n",
      "       in each spatial cell. The cells are ordered as x, y, z."
     ]
    },
    {
     "cell_type": "code",
     "collapsed": false,
     "input": [
      "input_dict['quadrature_file'] = 'quad_file'"
     ],
     "language": "python",
     "metadata": {},
     "outputs": [],
     "prompt_number": 19
    },
    {
     "cell_type": "markdown",
     "metadata": {},
     "source": [
      "'quad_file' is the quadrature file.  It is only used if the quadrature_type is 2; in this case it is a required entry.  If your quadrature_type is not 2, just create a blank file to pass in for this entry.  See formatting notes in the Spatial Solver Python API."
     ]
    },
    {
     "cell_type": "code",
     "collapsed": false,
     "input": [
      "input_dict['xs_file'] = 'xs'"
     ],
     "language": "python",
     "metadata": {},
     "outputs": [],
     "prompt_number": 20
    },
    {
     "cell_type": "markdown",
     "metadata": {},
     "source": [
      "'xs_file' is the file containing the cross sectional data for the materials in your mesh ('material_id').  They should be formatted similar to the following 2 material example xs file:\n",
      "      \n",
      "    ! Cross section file\n",
      "    ! Material # 1\n",
      "    ! Group #1\n",
      "    5.894     ! Total XS\n",
      "    1.8       ! Scattering matrix\n",
      "    ! Material # 2\n",
      "    ! Group #1\n",
      "    1.237      ! Total XS\n",
      "    0.12       ! Scattering matrix"
     ]
    },
    {
     "cell_type": "code",
     "collapsed": false,
     "input": [
      "input_dict['source_input_file'] = 'src_4.dat'"
     ],
     "language": "python",
     "metadata": {},
     "outputs": [],
     "prompt_number": 21
    },
    {
     "cell_type": "markdown",
     "metadata": {},
     "source": [
      "Note: see input file formatting notes in the Source File Formatting section."
     ]
    },
    {
     "cell_type": "code",
     "collapsed": false,
     "input": [
      "input_dict['bc_input_file'] = 'bc_4.dat'"
     ],
     "language": "python",
     "metadata": {},
     "outputs": [],
     "prompt_number": 22
    },
    {
     "cell_type": "markdown",
     "metadata": {},
     "source": [
      "'bc_input_file' is the boundry condition input file.  It contains the boundry neutron inflow for any faces of the mesh with the boundry condition specified as 2 (fixed inflow).  See the Boundry Condition formatting notes in the Spatial Solver Python API for more information."
     ]
    },
    {
     "cell_type": "code",
     "collapsed": false,
     "input": [
      "input_dict['flux_output_file'] = 'phi_4.ahot'"
     ],
     "language": "python",
     "metadata": {},
     "outputs": [],
     "prompt_number": 23
    },
    {
     "cell_type": "markdown",
     "metadata": {},
     "source": [
      "'flux_output_file' is the output file for the angular flux to be printed to."
     ]
    },
    {
     "cell_type": "code",
     "collapsed": false,
     "input": [
      "input_dict['convergence_criterion'] = 1.e-12"
     ],
     "language": "python",
     "metadata": {},
     "outputs": [],
     "prompt_number": 24
    },
    {
     "cell_type": "markdown",
     "metadata": {},
     "source": [
      " The solution is considered converged and the calculation completes when the flux\n",
      " in each cell at the current iteration is within \"convergence_criterion\" of the\n",
      " previous iterate. This is generally the relative difference, but in cases of \n",
      " very small flux values the absolute difference is used instead (see the \n",
      " Convergence Tolerance entry below). "
     ]
    },
    {
     "cell_type": "code",
     "collapsed": false,
     "input": [
      "input_dict['max_iterations'] = 6000"
     ],
     "language": "python",
     "metadata": {},
     "outputs": [],
     "prompt_number": 25
    },
    {
     "cell_type": "markdown",
     "metadata": {},
     "source": [
      "'max_iterations' is the maximum number of times the mesh should be sweeped.\n",
      " Note: if this number of iterations is reached before the convergence criterion\n",
      "       is satisfied, the calculation will terminate and report the current flux\n",
      "       estimate."
     ]
    },
    {
     "cell_type": "code",
     "collapsed": false,
     "input": [
      "input_dict['moments_converged'] = 0"
     ],
     "language": "python",
     "metadata": {},
     "outputs": [],
     "prompt_number": 26
    },
    {
     "cell_type": "markdown",
     "metadata": {},
     "source": [
      " Moments converged is the number of moments that should be converged upon for each quadrature in the\n",
      " solution space.  Value for moments converged must be in range [0, spatial_order_in]."
     ]
    },
    {
     "cell_type": "code",
     "collapsed": false,
     "input": [
      "input_dict['converge_tolerence'] = 1.e-10"
     ],
     "language": "python",
     "metadata": {},
     "outputs": [],
     "prompt_number": 27
    },
    {
     "cell_type": "markdown",
     "metadata": {},
     "source": [
      " <pre>Converge tolerance is the tolerance that determines how the difference between\n",
      " flux iterates (df) that is used to determine convergence will be calculated. \n",
      " df is calculated as follows:\n",
      "   f = current flux value\n",
      "   ct = convergence tolerance (value for this key, \"converge_tolerance\")\n",
      "   f1 = flux value from the previous iteration\n",
      "   If f1 > ct:\n",
      "     df = absolute(f - f1) / f1\n",
      "   Else\n",
      "     df = absolute(f - f1)\n",
      " The idea is to use the absolute difference instead of the relative difference\n",
      " between iterates when the flux is very small to help avoid rounding error.</pre>"
     ]
    },
    {
     "cell_type": "code",
     "collapsed": false,
     "input": [
      "dict_results = {}\n",
      "dict_results = pyne.spatialsolver.solve(input_dict)"
     ],
     "language": "python",
     "metadata": {},
     "outputs": [],
     "prompt_number": 28
    },
    {
     "cell_type": "markdown",
     "metadata": {},
     "source": [
      "Before doing anything with the resulting data, you should check if the solver succesfully ran.\n",
      "If the dictionary key 'success' is 1 (true), the job ran succesfully.  If it is 0 (false), you\n",
      "were not so succesfull."
     ]
    },
    {
     "cell_type": "code",
     "collapsed": false,
     "input": [
      "if(dict_results['success']):\n",
      "    print('Yay, job ran succesfully!')\n",
      "print(dict_results['success'])"
     ],
     "language": "python",
     "metadata": {},
     "outputs": [
      {
       "output_type": "stream",
       "stream": "stdout",
       "text": [
        "Yay, job ran succesfully!\n",
        "1\n"
       ]
      }
     ],
     "prompt_number": 29
    },
    {
     "cell_type": "markdown",
     "metadata": {},
     "source": [
      "If you were not so lucky, and your job failed, the following key will give you the error message.  It will be 0 if the codes ran succesfully."
     ]
    },
    {
     "cell_type": "code",
     "collapsed": false,
     "input": [
      "print(dict_results['error_msg'])"
     ],
     "language": "python",
     "metadata": {},
     "outputs": [
      {
       "output_type": "stream",
       "stream": "stdout",
       "text": [
        "0\n"
       ]
      }
     ],
     "prompt_number": 30
    },
    {
     "cell_type": "markdown",
     "metadata": {},
     "source": [
      "To get the results of the solver, create a output dictionary to store all the data from the solver, and then use solve to populate it!"
     ]
    },
    {
     "cell_type": "code",
     "collapsed": false,
     "input": [
      "print(dict_results['flux'])"
     ],
     "language": "python",
     "metadata": {},
     "outputs": [
      {
       "output_type": "stream",
       "stream": "stdout",
       "text": [
        "[[[3.5265019924291003, 3.0926025691465573, 3.0926025691465573, 3.5265019924291003], [3.0926025691465573, 2.732097319674751, 2.732097319674751, 3.0926025691465573], [3.0926025691465577, 2.7320973196747516, 2.7320973196747516, 3.092602569146557], [3.5265019924291003, 3.0926025691465573, 3.0926025691465573, 3.5265019924291003]], [[2.890218321768265, 2.6128481057403663, 2.6128481057403663, 2.890218321768265], [2.612848105740366, 2.3857167786473514, 2.385716778647351, 2.612848105740366], [2.612848105740366, 2.3857167786473514, 2.385716778647351, 2.6128481057403654], [2.8902183217682644, 2.612848105740366, 2.6128481057403663, 2.8902183217682644]], [[2.8902183217682644, 2.6128481057403663, 2.612848105740366, 2.8902183217682644], [2.612848105740366, 2.3857167786473505, 2.3857167786473505, 2.612848105740366], [2.612848105740366, 2.3857167786473505, 2.38571677864735, 2.6128481057403663], [2.8902183217682644, 2.612848105740366, 2.6128481057403663, 2.8902183217682644]], [[3.5265019924291003, 3.092602569146557, 3.0926025691465573, 3.5265019924291003], [3.0926025691465577, 2.732097319674751, 2.732097319674751, 3.0926025691465577], [3.0926025691465573, 2.732097319674751, 2.732097319674751, 3.092602569146558], [3.5265019924291003, 3.0926025691465573, 3.0926025691465573, 3.5265019924291003]]]\n"
       ]
      }
     ],
     "prompt_number": 31
    },
    {
     "cell_type": "markdown",
     "metadata": {},
     "source": [
      "There are a few other useful keys remaining in the dictionary.  If you want to know the total time your job took, you can get it using the 'total_time' key."
     ]
    },
    {
     "cell_type": "code",
     "collapsed": false,
     "input": [
      "print('Total solving time was: ')\n",
      "print(dict_results['total_time'])"
     ],
     "language": "python",
     "metadata": {},
     "outputs": [
      {
       "output_type": "stream",
       "stream": "stdout",
       "text": [
        "Total solving time was: \n",
        "0.0054190158844\n"
       ]
      }
     ],
     "prompt_number": 32
    },
    {
     "cell_type": "markdown",
     "metadata": {},
     "source": [
      "The 'time_start' key will give you the system time when your solver call began.  If you need the absoulte system time when the solver call finished, you can easily get it by adding the total job time ('total_time' key) and the solver start time ('time_start' key)."
     ]
    },
    {
     "cell_type": "code",
     "collapsed": false,
     "input": [
      "print('Solver call started at: ')\n",
      "print(dict_results['time_start'])\n",
      "print('Solver call finished at: ')\n",
      "print(dict_results['time_start'] + dict_results['total_time'])"
     ],
     "language": "python",
     "metadata": {},
     "outputs": [
      {
       "output_type": "stream",
       "stream": "stdout",
       "text": [
        "Solver call started at: \n",
        "0.886285007\n",
        "Solver call finished at: \n",
        "0.891704022884\n"
       ]
      }
     ],
     "prompt_number": 33
    },
    {
     "cell_type": "markdown",
     "metadata": {},
     "source": [
      "Thats it!"
     ]
    }
   ],
   "metadata": {}
  }
 ]
}