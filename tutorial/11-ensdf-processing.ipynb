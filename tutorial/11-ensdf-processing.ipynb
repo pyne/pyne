{
 "cells": [
  {
   "cell_type": "markdown",
   "metadata": {},
   "source": [
    "# ENSDF Processing Tutorial"
   ]
  },
  {
   "cell_type": "markdown",
   "metadata": {},
   "source": [
    "ensdf_processing is a pyne module that contains ensdf (Evaluated Nuclear Structure Data File) evaluation tools.  It includes ALPHAD, BRICC, DELTA, GABS, GTOL, BLDHST, HSICC, HSMRG, SEQHST, LOGFT, RADLIST, RADD and RULER.  FUll documentation for the internal structure of each can be found at:\n",
    "\n",
    "http://www.nndc.bnl.gov/nndcscr/ensdf_pgm/analysis/\n",
    "\n",
    "Examples of the Python interface for these evaluation tools follows."
   ]
  },
  {
   "cell_type": "code",
   "execution_count": 9,
   "metadata": {},
   "outputs": [],
   "source": [
    "import pyne\n",
    "from pyne import ensdf_processing"
   ]
  },
  {
   "cell_type": "markdown",
   "metadata": {},
   "source": [
    "All of the evaluation tools have a single dictionary parameter."
   ]
  },
  {
   "cell_type": "code",
   "execution_count": 3,
   "metadata": {},
   "outputs": [],
   "source": [
    "input_dict = {}"
   ]
  },
  {
   "cell_type": "markdown",
   "metadata": {},
   "source": [
    "This input dictionary must have all of the key-pair values specified in the documentation for the specific evaluation tool being run.  In this example, alphad will be run, which requires the following keys: \n",
    "* 'input_file'\n",
    "* 'report_file'\n",
    "* 'rewrite_input_with_hinderance_factor'\n",
    "* 'output_file'."
   ]
  },
  {
   "cell_type": "code",
   "execution_count": 4,
   "metadata": {},
   "outputs": [],
   "source": [
    "input_dict['input_file'] = 'ensdf_processing/alphad/ref_a228.ens'\n",
    "input_dict['report_file'] = '/alphad.rpt'\n",
    "input_dict['rewrite_input_with_hinderance_factor'] = 1\n",
    "input_dict['output_file'] = '/alphad.out'\n",
    "output_dict = ensdf_processing.alphad(input_dict)"
   ]
  },
  {
   "cell_type": "markdown",
   "metadata": {},
   "source": [
    "To run the evaluation tool, call ensdf_processing.<name of tool>(dictionary)"
   ]
  },
  {
   "cell_type": "code",
   "execution_count": 6,
   "metadata": {},
   "outputs": [],
   "source": [
    "output_dict = ensdf_processing.alphad(input_dict)"
   ]
  },
  {
   "cell_type": "markdown",
   "metadata": {},
   "source": [
    "A dictionary is returned, with all the input key-pairs, as well as any other information the evaluation tool returns.  In this case, no additional key-pair values have been added to the returned dictionary.  Alphad wrote the resulting output file to '/alphad.out', and has a report file at 'alphad.rpt', both specified by the input dicitonary."
   ]
  },
  {
   "cell_type": "code",
   "execution_count": 7,
   "metadata": {},
   "outputs": [
    {
     "name": "stdout",
     "output_type": "stream",
     "text": [
      "{'report_file': '/alphad.rpt', 'rewrite_input_with_hinderance_factor': 1, 'output_file': '/alphad.out', 'input_file': 'ensdf_processing/alphad/ref_a228.ens'}\n"
     ]
    }
   ],
   "source": [
    "print(output_dict)"
   ]
  },
  {
   "cell_type": "markdown",
   "metadata": {},
   "source": [
    "# Following are examples of each of the evaluation tools packaged with PyNE:"
   ]
  },
  {
   "cell_type": "markdown",
   "metadata": {},
   "source": [
    "## ALPHAD (calculates alpha HF's and theoretical half-lives)"
   ]
  },
  {
   "cell_type": "code",
   "execution_count": 9,
   "metadata": {},
   "outputs": [],
   "source": [
    "input_dict = {}\n",
    "input_dict['input_file'] = 'ensdf_processing/alphad/ref_a228.ens'\n",
    "input_dict['report_file'] = '/tmp_alphad.rpt'\n",
    "input_dict['rewrite_input_with_hinderance_factor'] = 1\n",
    "input_dict['output_file'] = '/tmp_alphad.out'\n",
    "output_dict = ensdf_processing.alphad(input_dict)"
   ]
  },
  {
   "cell_type": "markdown",
   "metadata": {},
   "source": [
    "## BRICC (Calculates the conversion electron, electron-positron pair conversion coeffcients and the E0 electronic factors)"
   ]
  },
  {
   "cell_type": "code",
   "execution_count": 11,
   "metadata": {},
   "outputs": [],
   "source": [
    "input_dict = {}\n",
    "input_dict['input_type'] = 'evaluation'\n",
    "input_dict['input_file'] = 'ensdf_processing/bricc/ref_a228.ens'\n",
    "input_dict['BrIccNH'] = 0\n",
    "output_dict = ensdf_processing.bricc(input_dict)"
   ]
  },
  {
   "cell_type": "markdown",
   "metadata": {},
   "source": [
    "## BLDHST"
   ]
  },
  {
   "cell_type": "code",
   "execution_count": 14,
   "metadata": {},
   "outputs": [],
   "source": [
    "input_dict = {}\n",
    "input_dict['input_file'] = 'ensdf_processing/bldhst/ref_bldhst_iccseq.dat'\n",
    "input_dict['output_table_file'] = '/tmp_bldhst_icctbl.dat'\n",
    "input_dict['output_index_file'] = '/tmp_bldhst_iccndx.dat'\n",
    "output_dict = ensdf_processing.bldhst(input_dict)"
   ]
  },
  {
   "cell_type": "markdown",
   "metadata": {},
   "source": [
    "## DELTA (analyzes gamma-gamma angular correlations from unaligned states)"
   ]
  },
  {
   "cell_type": "code",
   "execution_count": 36,
   "metadata": {},
   "outputs": [],
   "source": [
    "input_dict = {}\n",
    "input_dict['input_file'] = 'ensdf_processing/delta/ref_inp.dat'\n",
    "input_dict['output_file'] = '/tmp_delta.dat'\n",
    "output_dict = ensdf_processing.delta(input_dict)"
   ]
  },
  {
   "cell_type": "markdown",
   "metadata": {},
   "source": [
    "## GABS (gamma-ray absolute intensity and normalization calculation)"
   ]
  },
  {
   "cell_type": "code",
   "execution_count": 37,
   "metadata": {},
   "outputs": [],
   "source": [
    "input_dict = {}\n",
    "input_dict['input_file'] = 'ensdf_processing/gabs/ref_gabs_80Br.in'\n",
    "input_dict['output_file'] = '/tmp_gabs_80Br.rpt'\n",
    "input_dict['dataset_file'] = '/tmp_gabs_80Br.new'\n",
    "output_dict = ensdf_processing.gabs(input_dict)"
   ]
  },
  {
   "cell_type": "markdown",
   "metadata": {},
   "source": [
    "## GTOL (performs a least-squares fit to the gamma-energies to obtain level energies and calculates the net feedings to levels)"
   ]
  },
  {
   "cell_type": "code",
   "execution_count": 38,
   "metadata": {},
   "outputs": [],
   "source": [
    "input_dict = {}\n",
    "input_dict['input_file'] = 'ensdf_processing/gtol/ref_gtol.inp'\n",
    "input_dict['report_file'] = '/tmp_gtol.rpt'\n",
    "input_dict['new_ensdf_file_with_results'] = 0\n",
    "input_dict['output_file'] = '/tmp_gtol.out'\n",
    "input_dict['supress_gamma_comparison'] = 1\n",
    "input_dict['supress_intensity_comparison'] = 1\n",
    "input_dict['dcc_theory_percent'] = 1.4\n",
    "output_dict = ensdf_processing.gtol(input_dict)"
   ]
  },
  {
   "cell_type": "markdown",
   "metadata": {},
   "source": [
    "## HSICC (interpolates Hager-Seltzer and Dragoun internal conversion coefficients)"
   ]
  },
  {
   "cell_type": "code",
   "execution_count": 39,
   "metadata": {},
   "outputs": [],
   "source": [
    "input_dict = {}\n",
    "input_dict['data_deck'] = 'ensdf_processing/hsicc/ref_hsicc_data.tst'\n",
    "input_dict['icc_index'] = 'ensdf_processing/hsicc/ref_hsicc_iccndx.dat'\n",
    "input_dict['icc_table'] = 'ensdf_processing/hsicc/ref_hsicc_icctbl.dat'\n",
    "input_dict['complete_report'] = '/tmp_out_hsicc_hscalc.lst'\n",
    "input_dict['new_card_deck'] = '/tmp_out_hsicc_cards.new'\n",
    "input_dict['comparison_report'] = '/tmp_out_hsicc_compar.lst'\n",
    "input_dict['is_multipol_known'] = 'Y'\n",
    "output_dict = ensdf_processing.hsicc(input_dict)"
   ]
  },
  {
   "cell_type": "markdown",
   "metadata": {},
   "source": [
    "## HSMRG"
   ]
  },
  {
   "cell_type": "code",
   "execution_count": 40,
   "metadata": {},
   "outputs": [],
   "source": [
    "input_dict = {}\n",
    "input_dict['data_deck'] = 'ensdf_processing/hsmrg/ref_hsmrg_data.tst'\n",
    "input_dict['card_deck'] = 'ensdf_processing/hsmrg/ref_hsmrg_cards.new'\n",
    "input_dict['merged_data_deck'] = '/tmp_out_cards.mrg'\n",
    "output_dict = ensdf_processing.hsmrg(input_dict)"
   ]
  },
  {
   "cell_type": "markdown",
   "metadata": {},
   "source": [
    "## SEQHST"
   ]
  },
  {
   "cell_type": "code",
   "execution_count": 41,
   "metadata": {},
   "outputs": [],
   "source": [
    "input_dict = {}\n",
    "input_dict['binary_table_input_file'] = 'ensdf_processing/seqhst/ref_seqhst_icctbl.dat'\n",
    "input_dict['sequential_output_file'] = '/tmp_out_iccseq.dat'\n",
    "output_dict = ensdf_processing.seqhst(input_dict)"
   ]
  },
  {
   "cell_type": "markdown",
   "metadata": {},
   "source": [
    "## LOGFT (calculates log ft values for beta and electron-capture decay, average beta energies, and capture fractions)"
   ]
  },
  {
   "cell_type": "code",
   "execution_count": 47,
   "metadata": {},
   "outputs": [],
   "source": [
    "input_dict = {}\n",
    "input_dict['input_data_set'] = 'ensdf_processing/logft/ref_logft.inp'\n",
    "input_dict['output_report'] = '/tmp_logft.rpt'\n",
    "input_dict['data_table'] = 'ensdf_processing/logft/ref_logft.dat'\n",
    "input_dict['output_data_set'] = '/tmp_logft.new'\n",
    "output_dict = ensdf_processing.logft(input_dict)"
   ]
  },
  {
   "cell_type": "markdown",
   "metadata": {},
   "source": [
    "## RADD"
   ]
  },
  {
   "cell_type": "code",
   "execution_count": 49,
   "metadata": {},
   "outputs": [],
   "source": [
    "input_dict = {}\n",
    "input_dict['atomic_number'] = '86'\n",
    "input_dict['neutron_number'] = '113'\n",
    "input_dict['output_file'] = 'tmp_output.out'\n",
    "radd_output = ensdf_processing.radd(input_dict)"
   ]
  },
  {
   "cell_type": "markdown",
   "metadata": {},
   "source": [
    "## RADLIST (calculates atomic & nuclear radiations; checks energy balance)"
   ]
  },
  {
   "cell_type": "code",
   "execution_count": 50,
   "metadata": {},
   "outputs": [
    {
     "name": "stdout",
     "output_type": "stream",
     "text": [
      "/home/josh/anaconda/lib/python2.7/site-packages/pyne-0.5.0_rc1-py2.7.egg/pyne/radlist\n"
     ]
    }
   ],
   "source": [
    "input_dict = {}\n",
    "input_dict['output_radiation_listing'] = 'Y'\n",
    "input_dict['output_ensdf_like_file'] = 'N'\n",
    "input_dict['output_file_for_nudat'] = 'N'\n",
    "input_dict['output_mird_listing'] = 'N'\n",
    "input_dict['calculate_continua'] = 'N'\n",
    "input_dict['input_file'] = 'ensdf_processing/radlst/ref_radlst.inp'\n",
    "input_dict['output_radlst_file'] =  '/tmp_radlst.rpt'\n",
    "input_dict['input_radlst_data_table'] = 'ensdf_processing/radlst/ref_mednew.dat'\n",
    "input_dict['output_ensdf_file'] =  '/tmp_ensdf.rpt'\n",
    "output_dict = ensdf_processing.radlist(input_dict)"
   ]
  },
  {
   "cell_type": "markdown",
   "metadata": {},
   "source": [
    "## RULER (calculates reduced transition probabilities)"
   ]
  },
  {
   "cell_type": "code",
   "execution_count": 45,
   "metadata": {},
   "outputs": [],
   "source": [
    "input_dict = {}\n",
    "input_dict['input_file'] = 'ensdf_processing/ruler/ref_ruler.inp'\n",
    "input_dict['output_report_file'] = '/tmp_ruler.rpt'\n",
    "input_dict['mode_of_operation'] = 'R'\n",
    "input_dict['assumed_dcc_theory'] = '1.4'\n",
    "output_dict = ensdf_processing.ruler(input_dict)"
   ]
  },
  {
   "cell_type": "code",
   "execution_count": null,
   "metadata": {},
   "outputs": [],
   "source": []
  }
 ],
 "metadata": {
  "kernelspec": {
   "display_name": "Python 3",
   "language": "python",
   "name": "python3"
  },
  "language_info": {
   "codemirror_mode": {
    "name": "ipython",
    "version": 3
   },
   "file_extension": ".py",
   "mimetype": "text/x-python",
   "name": "python",
   "nbconvert_exporter": "python",
   "pygments_lexer": "ipython3",
   "version": "3.6.9"
  }
 },
 "nbformat": 4,
 "nbformat_minor": 1
}
