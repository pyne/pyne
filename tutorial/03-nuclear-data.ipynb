{
 "metadata": {
  "name": "",
  "signature": "sha256:1e4b83a9a0982bbf70f506f164c3787dfd0e7c5f788255471ae22f40db9cfb20"
 },
 "nbformat": 3,
 "nbformat_minor": 0,
 "worksheets": [
  {
   "cells": [
    {
     "cell_type": "markdown",
     "metadata": {},
     "source": [
      "# Nuclear Data\n",
      "\n",
      "PyNE provides a top-level interface for a variety of basic nuclear data needs. This aims to provide quick access to very high fidelity data. Values are taken from the `nuc_data.h5` library.  The basic suite of data comes from public sources.  However if you have access to proprietary or export controlled data, such as CINDER cross sections, then PyNE will also attempt to provide an interface to this as well.\n",
      "\n",
      "All functionality may be found in the data module:"
     ]
    },
    {
     "cell_type": "code",
     "collapsed": false,
     "input": [
      "from pyne import data"
     ],
     "language": "python",
     "metadata": {},
     "outputs": [
      {
       "output_type": "stream",
       "stream": "stderr",
       "text": [
        "-c:1: VnVWarning: pyne.nucname is not yet V&V compliant.\n",
        "-c:1: VnVWarning: pyne.data is not yet V&V compliant.\n"
       ]
      }
     ],
     "prompt_number": 1
    },
    {
     "cell_type": "markdown",
     "metadata": {},
     "source": [
      "The usual suspects follow."
     ]
    },
    {
     "cell_type": "markdown",
     "metadata": {},
     "source": [
      "## Atomic Mass [amu]\n",
      "Finds the atomic mass of a nuclide"
     ]
    },
    {
     "cell_type": "code",
     "collapsed": false,
     "input": [
      "data.atomic_mass('U235')"
     ],
     "language": "python",
     "metadata": {},
     "outputs": [
      {
       "metadata": {},
       "output_type": "pyout",
       "prompt_number": 2,
       "text": [
        "235.043930131"
       ]
      }
     ],
     "prompt_number": 2
    },
    {
     "cell_type": "markdown",
     "metadata": {},
     "source": [
      "## Natural Abundance Ratios\n",
      "Finds the natural abundance of a nuclide"
     ]
    },
    {
     "cell_type": "code",
     "collapsed": false,
     "input": [
      "data.natural_abund('U235')"
     ],
     "language": "python",
     "metadata": {},
     "outputs": [
      {
       "metadata": {},
       "output_type": "pyout",
       "prompt_number": 3,
       "text": [
        "0.007204"
       ]
      }
     ],
     "prompt_number": 3
    },
    {
     "cell_type": "code",
     "collapsed": false,
     "input": [
      "data.natural_abund('Pu-239')"
     ],
     "language": "python",
     "metadata": {},
     "outputs": [
      {
       "metadata": {},
       "output_type": "pyout",
       "prompt_number": 4,
       "text": [
        "0.0"
       ]
      }
     ],
     "prompt_number": 4
    },
    {
     "cell_type": "markdown",
     "metadata": {},
     "source": [
      "## Half Lives (s) & Decay Constants (1/s)"
     ]
    },
    {
     "cell_type": "code",
     "collapsed": false,
     "input": [
      "data.half_life('U-238')"
     ],
     "language": "python",
     "metadata": {},
     "outputs": [
      {
       "metadata": {},
       "output_type": "pyout",
       "prompt_number": 5,
       "text": [
        "1.409993568e+17"
       ]
      }
     ],
     "prompt_number": 5
    },
    {
     "cell_type": "code",
     "collapsed": false,
     "input": [
      "data.decay_const('U-238')"
     ],
     "language": "python",
     "metadata": {},
     "outputs": [
      {
       "metadata": {},
       "output_type": "pyout",
       "prompt_number": 6,
       "text": [
        "4.915959875924379e-18"
       ]
      }
     ],
     "prompt_number": 6
    },
    {
     "cell_type": "markdown",
     "metadata": {},
     "source": [
      "## Decay Children"
     ]
    },
    {
     "cell_type": "code",
     "collapsed": false,
     "input": [
      "data.decay_children('Rb86')"
     ],
     "language": "python",
     "metadata": {},
     "outputs": [
      {
       "metadata": {},
       "output_type": "pyout",
       "prompt_number": 7,
       "text": [
        "set([360860000, 380860000])"
       ]
      }
     ],
     "prompt_number": 7
    },
    {
     "cell_type": "markdown",
     "metadata": {},
     "source": [
      "Rb decays to Kr and Sr\n",
      "\n",
      "-------------------"
     ]
    },
    {
     "cell_type": "code",
     "collapsed": false,
     "input": [
      "print data.branch_ratio('Rb86', 360860000)"
     ],
     "language": "python",
     "metadata": {},
     "outputs": [
      {
       "output_type": "stream",
       "stream": "stdout",
       "text": [
        "5.2e-05\n"
       ]
      }
     ],
     "prompt_number": 8
    },
    {
     "cell_type": "markdown",
     "metadata": {},
     "source": [
      "## Neutron Scattering Lengths [cm]\n",
      "Finds the bound scattering length; the generic value is computed from the coherent and incoherent scattering data:\n",
      "\n",
      "$$b = \\sqrt{\\left| b_{\\mbox{coh}} \\right|^2 + \\left| b_{\\mbox{inc}} \\right|^2}$$"
     ]
    },
    {
     "cell_type": "code",
     "collapsed": false,
     "input": [
      "data.b('H1')"
     ],
     "language": "python",
     "metadata": {},
     "outputs": [
      {
       "metadata": {},
       "output_type": "pyout",
       "prompt_number": 9,
       "text": [
        "2.554930849083787e-12"
       ]
      }
     ],
     "prompt_number": 9
    },
    {
     "cell_type": "code",
     "collapsed": false,
     "input": [
      "data.b_coherent('H1')"
     ],
     "language": "python",
     "metadata": {},
     "outputs": [
      {
       "metadata": {},
       "output_type": "pyout",
       "prompt_number": 10,
       "text": [
        "(-3.7406e-13+0j)"
       ]
      }
     ],
     "prompt_number": 10
    },
    {
     "cell_type": "code",
     "collapsed": false,
     "input": [
      "data.b_incoherent('H1')"
     ],
     "language": "python",
     "metadata": {},
     "outputs": [
      {
       "metadata": {},
       "output_type": "pyout",
       "prompt_number": 11,
       "text": [
        "(2.5274000000000003e-12+0j)"
       ]
      }
     ],
     "prompt_number": 11
    },
    {
     "cell_type": "markdown",
     "metadata": {},
     "source": [
      "## Half-life Plot"
     ]
    },
    {
     "cell_type": "code",
     "collapsed": false,
     "input": [
      "import numpy as np\n",
      "%matplotlib inline\n",
      "import matplotlib\n",
      "matplotlib.rc('font', family='serif', size=14)\n",
      "import matplotlib.pyplot as plt\n",
      "from pyne import nucname, nuc_data\n",
      "\n",
      "import tables as tb\n",
      "f = tb.openFile(nuc_data)\n",
      "# get a map between nucleon numbers and half-lives\n",
      "anums = map(nucname.anum, f.root.decay.level_list[:]['nuc_id'])\n",
      "#anums = map(nucname.anum, data.half_life_map.keys())\n",
      "\n",
      "fig = plt.figure(figsize=(7,7))\n",
      "plt.semilogy(anums,  f.root.decay.level_list[:]['half_life'], 'ko')\n",
      "plt.xlabel('A')\n",
      "plt.ylabel('Half-life [s]')"
     ],
     "language": "python",
     "metadata": {},
     "outputs": [
      {
       "metadata": {},
       "output_type": "pyout",
       "prompt_number": 3,
       "text": [
        "<matplotlib.text.Text at 0x114924f10>"
       ]
      },
      {
       "metadata": {},
       "output_type": "display_data",
       "png": "[encoded data removed]",
       "text": [
        "<matplotlib.figure.Figure at 0x114918b90>"
       ]
      }
     ],
     "prompt_number": 3
    },
    {
     "cell_type": "markdown",
     "metadata": {},
     "source": [
      "#ENSDF decay data\n",
      "In addition to the basic ENSDF data interface shown above there is also an extended interface that provides access to a large portion of the decay data in the ENSDF dataset. For example lets look at Cs-137:"
     ]
    },
    {
     "cell_type": "code",
     "collapsed": false,
     "input": [
      "# we can look up most decay data by parent or by decay energy\n",
      "# returns a list of gamma ray level pairs from ENSDF decay data from a given parent's state id.\n",
      "decay_pairs = data.gamma_from_to_byparent(551370000)\n",
      "\n",
      "# this resturns a list of gamma ray energies given a parent\n",
      "energies = data.gamma_energy(551370000)\n",
      "\n",
      "print(energies)"
     ],
     "language": "python",
     "metadata": {},
     "outputs": [
      {
       "output_type": "stream",
       "stream": "stdout",
       "text": [
        "[(283.5, 0.1), (661.657, 0.003)]\n"
       ]
      }
     ],
     "prompt_number": 33
    },
    {
     "cell_type": "code",
     "collapsed": false,
     "input": [
      "# these are just relative intensities\n",
      "intensities = data.gamma_photon_intensity(551370000)\n",
      "\n",
      "# This converts the relative intensities to decays per 100 decays of the parent\n",
      "photonbr, photonbr_error = data.decay_photon_branch_ratio(551370000,561370000)\n",
      "finalintensity = []\n",
      "for item in intensities:\n",
      "    # compute the intensities ignore the errors (for now)\n",
      "    finalintensity.append(photonbr*item[0])\n",
      "\n",
      "     \n",
      "# Alpha intensities a bit trickier\n",
      "from pyne import rxname\n",
      "# This is just intensity per 100 alpha decays with no errors (yet)\n",
      "a_intensities = data.alpha_intensity(922290000)\n",
      "\n",
      "# Find the alpha branch intensity\n",
      "a_br = data.branch_ratio(922290000,rxname.child(922290000,'a','decay'))\n",
      "\n",
      "# Calculate the intensities of each alpha per 100 decays of the parent\n",
      "a_final_intensities = []\n",
      "for item in a_intensities:\n",
      "    a_final_intensities.append(a_br*item)"
     ],
     "language": "python",
     "metadata": {},
     "outputs": []
    },
    {
     "cell_type": "markdown",
     "metadata": {},
     "source": [
      "## Another possible use is the search for candidate gamma rays"
     ]
    },
    {
     "cell_type": "code",
     "collapsed": false,
     "input": [
      "# The default range is +- 1 keV which returns a lot of stuff\n",
      "possible_parents = data.gamma_parent(661.657)\n",
      "\n",
      "# this returns gamma ray level pairs based on gamma ray energy\n",
      "from_to = data.gamma_from_to_byen(661.657)\n",
      "\n",
      "# a list of gamma ray  intensities from a given gamman ray energy\n",
      "intensity_list = data.gamma_photon_intensity_byen(661.657)\n",
      "print(len(intensity_list))"
     ],
     "language": "python",
     "metadata": {},
     "outputs": [
      {
       "output_type": "stream",
       "stream": "stdout",
       "text": [
        "849\n"
       ]
      }
     ],
     "prompt_number": 5
    },
    {
     "cell_type": "code",
     "collapsed": false,
     "input": [
      "# we can downselect this\n",
      "import numpy as np\n",
      "from pyne import nucname\n",
      "hls = []\n",
      "final_ints = []\n",
      "parents = []\n",
      "for i, item in enumerate(possible_parents):\n",
      "    # gammas that don't have from-to pairs get lost here\n",
      "    phbr = data.decay_photon_branch_ratio(item,nucname.groundstate(from_to[i][0]))\n",
      "    # Select non-zero branch ratios, intensities over 5% of all decays and half lives over 10 days\n",
      "    if phbr[0] > 0.0 and intensity_list[i][0]*phbr[0] > 5.0:\n",
      "        if nucname.groundstate(from_to[i][0]) != item and data.half_life(item,False) > 60.*60.*24.*10.:\n",
      "            parents.append(item)\n",
      "            hls.append(data.half_life(item,False))\n",
      "            final_ints.append(intensity_list[i][0]*phbr[0])\n",
      "\n",
      "# now we have a managably short list\n",
      "for i, item in enumerate(parents):\n",
      "    print(\"possible candidate: {0}\".format(nucname.name(item)))\n",
      "    print(\"half life: {0} s/ {1} days/ {2} years\".format(hls[i],hls[i]/(60.*60.*24.),hls[i]/(60.*60.*24.*365.25)))\n",
      "    print(\"intensity: {0} %\".format(final_ints[i]))\n",
      "    print(\"################################################################\")\n",
      "    "
     ],
     "language": "python",
     "metadata": {},
     "outputs": [
      {
       "output_type": "stream",
       "stream": "stdout",
       "text": [
        "possible candidate: Cs137\n",
        "half life: 949252608.0 s/ 10986.72 days/ 30.08 years\n",
        "intensity: 85.1 %\n",
        "################################################################\n",
        "possible candidate: Sb126\n",
        "half life: 1067040.0 s/ 12.35 days/ 0.0338124572211 years\n",
        "intensity: 85.6732 %\n",
        "################################################################\n",
        "possible candidate: I126\n",
        "half life: 1117152.0 s/ 12.93 days/ 0.0354004106776 years\n",
        "intensity: 32.8848 %\n",
        "################################################################\n",
        "possible candidate: Sb126\n",
        "half life: 1067040.0 s/ 12.35 days/ 0.0338124572211 years\n",
        "intensity: 85.6732 %\n",
        "################################################################\n"
       ]
      }
     ],
     "prompt_number": 26
    }
   ],
   "metadata": {}
  }
 ]
}