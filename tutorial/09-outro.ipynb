{
 "cells": [
  {
   "attachments": {},
   "cell_type": "markdown",
   "metadata": {},
   "source": [
    "# You've successfully completed the tutorial!\n",
    "\n",
    "<center>\n",
    "    <img alt=\"PyNE\" width=\"50%\" src=\"https://raw.github.com/pyne/pyne/develop/img/pyne_icon_big.png\" style=\"max-width: 30rem;\" />\n",
    "</center>\n",
    "\n",
    "There are a variety of other things in PyNE that are not covered in this tutorial because they are impractical in this kind of tutorial but they do exist:\n",
    "\n",
    "* Enrichment\n",
    "* Material Libraries\n",
    "* ACE\n",
    "* ENDF\n",
    "* MCNP\n",
    "* Serpent\n",
    "* ORIGEN 2.2\n",
    "* NJOY\n",
    "* CCCC\n",
    "* and more!"
   ]
  },
  {
   "cell_type": "markdown",
   "metadata": {},
   "source": [
    "# Contact PyNE\n",
    "\n",
    "**Website:** http://pyne.io/\n",
    "\n",
    "**User's Mailing List:** pyne-users@googlegroups.com\n",
    "\n",
    "**Developer's List:** pyne-dev@googlegroups.com"
   ]
  },
  {
   "cell_type": "markdown",
   "metadata": {},
   "source": [
    "# Questions?"
   ]
  },
  {
   "cell_type": "markdown",
   "metadata": {},
   "source": [
    "# What do *you* want out of PyNE?"
   ]
  }
 ],
 "metadata": {
  "kernelspec": {
   "display_name": "Python 3",
   "language": "python",
   "name": "python3"
  },
  "language_info": {
   "codemirror_mode": {
    "name": "ipython",
    "version": 3
   },
   "file_extension": ".py",
   "mimetype": "text/x-python",
   "name": "python",
   "nbconvert_exporter": "python",
   "pygments_lexer": "ipython3",
   "version": "3.6.9"
  }
 },
 "nbformat": 4,
 "nbformat_minor": 1
}
