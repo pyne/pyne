{
 "metadata": {
  "name": ""
 },
 "nbformat": 3,
 "nbformat_minor": 0,
 "worksheets": [
  {
   "cells": [
    {
     "cell_type": "markdown",
     "metadata": {},
     "source": [
      "# Thanks for Coming! \n",
      "\n",
      "![PyNE Tree](https://raw.github.com/pyne/pyne/staging/img/pyne_icon_big.png)\n",
      "\n",
      "There are a variety of other things in PyNE that we are not showing you today because they are impractical in this kind of tutorial:\n",
      "\n",
      "* Enrichment\n",
      "* Material Libraries\n",
      "* ACE\n",
      "* ENDF\n",
      "* MCNP\n",
      "* Serpent\n",
      "* ORIGEN 2.2\n",
      "* NJOY\n",
      "* CCCC\n",
      "* and more!"
     ]
    },
    {
     "cell_type": "markdown",
     "metadata": {},
     "source": [
      "# Contact PyNE\n",
      "\n",
      "**Website:** http://pyne.io/\n",
      "\n",
      "**User's Mailing List:** pyne-users@googlegroups.com\n",
      "\n",
      "**Developer's List:** pyne-dev@googlegroups.com"
     ]
    },
    {
     "cell_type": "markdown",
     "metadata": {},
     "source": [
      "# Questions?"
     ]
    },
    {
     "cell_type": "markdown",
     "metadata": {},
     "source": [
      "# What do *you* want out of PyNE?"
     ]
    }
   ],
   "metadata": {}
  }
 ]
}
