{
 "metadata": {
  "name": "",
  "signature": "sha256:dd9f185468dedab43693ab0c85884b090c4402870eb6ac41c8d49d9bb71963f3"
 },
 "nbformat": 3,
 "nbformat_minor": 0,
 "worksheets": [
  {
   "cells": [
    {
     "cell_type": "markdown",
     "metadata": {},
     "source": [
      "# Cross Section Interface\n",
      "\n",
      "PyNE provides a top-level interface for computing (and caching) multigroup neutron cross sections.\n",
      "These cross sections will be computed from a variety of available data sources (stored in `nuc_data.h5`).\n",
      "This interface remains the same across all data sources, allowing the user to easily swap out which \n",
      "cross section library they wish to use.\n",
      "\n",
      "The following cross section formats are included with PyNE.\n",
      "\n",
      "* The ENDF file format (experimental), \n",
      "* The ACE file format, \n",
      "* EAF 175-group cross sections,\n",
      "* CINDER 63-group cross sections,\n",
      "* A two-point fast/thermal interpolation (using 'simple_xs' data from KAERI),\n",
      "* Physical models, and\n",
      "* Null data.\n",
      "\n",
      "This functionality may be be found in the `xs` sub-package.  This package is \n",
      "separated out into the following modules:\n",
      "\n",
      "    models\n",
      "    data_source\n",
      "    cache\n",
      "    channels"
     ]
    },
    {
     "cell_type": "markdown",
     "metadata": {},
     "source": [
      "## Data Sources\n",
      "\n",
      "Data sources are classes that provide the common interface for grabbing cross section data from a data source.  Unless otherwise specified, this is lazily evaluated.  The data source object itself then acts as an in-memory cache, making further look ups of the raw data very quick! \n",
      "\n",
      "To get a sense of how this works, let's pull in some data that we know about.  "
     ]
    },
    {
     "cell_type": "markdown",
     "metadata": {},
     "source": [
      "### EAF Data Source"
     ]
    },
    {
     "cell_type": "code",
     "collapsed": false,
     "input": [
      "from pyne.xs.data_source import EAFDataSource, SimpleDataSource, NullDataSource"
     ],
     "language": "python",
     "metadata": {},
     "outputs": [
      {
       "output_type": "stream",
       "stream": "stderr",
       "text": [
        "/home/pyne-user/.local/lib/python2.7/site-packages/pyne/openmc.py:18: QAWarning: pyne.openmc is not yet QA compliant.\n",
        "  warn(__name__ + \" is not yet QA compliant.\", QAWarning)\n",
        "/home/pyne-user/.local/lib/python2.7/site-packages/pyne/xs/data_source.py:22: QAWarning: pyne.rxname is not yet QA compliant.\n",
        "  from pyne import rxname\n",
        "/home/pyne-user/.local/lib/python2.7/site-packages/pyne/rxdata.py:5: QAWarning: pyne.rxdata is not yet QA compliant.\n",
        "  warn(__name__ + \" is not yet QA compliant.\", QAWarning)\n"
       ]
      },
      {
       "output_type": "stream",
       "stream": "stderr",
       "text": [
        "/home/pyne-user/.local/lib/python2.7/site-packages/pyne/xs/data_source.py:23: QAWarning: pyne.endf is not yet QA compliant.\n",
        "  from pyne import endf\n",
        "/home/pyne-user/.local/lib/python2.7/site-packages/pyne/xs/data_source.py:24: QAWarning: pyne.bins is not yet QA compliant.\n",
        "  from pyne import bins\n",
        "/home/pyne-user/.local/lib/python2.7/site-packages/pyne/xs/data_source.py:25: QAWarning: pyne.ace is not yet QA compliant.\n",
        "  from pyne import ace\n",
        "/home/pyne-user/.local/lib/python2.7/site-packages/pyne/xs/data_source.py:26: QAWarning: pyne.data is not yet QA compliant.\n",
        "  from pyne.data import MeV_per_K\n",
        "/home/pyne-user/.local/lib/python2.7/site-packages/pyne/xs/data_source.py:27: QAWarning: pyne.xs.models is not yet QA compliant.\n",
        "  from pyne.xs.models import partial_energy_matrix, group_collapse\n",
        "/home/pyne-user/.local/lib/python2.7/site-packages/pyne/xs/data_source.py:29: QAWarning: pyne.xs.data_source is not yet QA compliant.\n",
        "  warn(__name__ + \" is not yet QA compliant.\", QAWarning)\n"
       ]
      }
     ],
     "prompt_number": 1
    },
    {
     "cell_type": "code",
     "collapsed": false,
     "input": [
      "eds = EAFDataSource()\n",
      "# reaction returns a dictionary containing source group structure, energy values, \n",
      "# cross-section data, and interpolation data.\n",
      "gamma = eds.reaction('U235', 'gamma')\n",
      "gamma"
     ],
     "language": "python",
     "metadata": {},
     "outputs": [
      {
       "metadata": {},
       "output_type": "pyout",
       "prompt_number": 2,
       "text": [
        "array([  3.40601000e-04,   4.13527000e-04,   4.52339000e-04,\n",
        "         5.35260000e-04,   7.79656000e-04,   9.12824000e-04,\n",
        "         1.05027000e-03,   1.20057000e-03,   1.33202000e-03,\n",
        "         1.46200000e-03,   1.60595000e-03,   1.67206000e-03,\n",
        "         1.76457000e-03,   1.90211000e-03,   2.03703000e-03,\n",
        "         2.12614000e-03,   2.15500000e-03,   2.15923000e-03,\n",
        "         2.17015000e-03,   2.19708000e-03,   2.24992000e-03,\n",
        "         2.34009000e-03,   2.47761000e-03,   2.65621000e-03,\n",
        "         2.80624000e-03,   2.93429000e-03,   3.18937000e-03,\n",
        "         3.54963000e-03,   3.99022000e-03,   4.53866000e-03,\n",
        "         5.21324000e-03,   6.05776000e-03,   7.06523000e-03,\n",
        "         9.26177000e-03,   1.27481000e-02,   1.75162000e-02,\n",
        "         2.23344000e-02,   2.54474000e-02,   2.88533000e-02,\n",
        "         3.21686000e-02,   3.59024000e-02,   4.03127000e-02,\n",
        "         4.31805000e-02,   4.57085000e-02,   4.57084000e-02,\n",
        "         4.57112000e-02,   4.87787000e-02,   5.18315000e-02,\n",
        "         5.62859000e-02,   6.08943000e-02,   6.55405000e-02,\n",
        "         7.01358000e-02,   7.41851000e-02,   7.78783000e-02,\n",
        "         8.13216000e-02,   8.57563000e-02,   8.88694000e-02,\n",
        "         9.13386000e-02,   9.53971000e-02,   9.82263000e-02,\n",
        "         1.00158000e-01,   1.04962000e-01,   1.08964000e-01,\n",
        "         1.11877000e-01,   1.14201000e-01,   1.16384000e-01,\n",
        "         1.19622000e-01,   1.23457000e-01,   1.27270000e-01,\n",
        "         1.31726000e-01,   1.35999000e-01,   1.40273000e-01,\n",
        "         1.44433000e-01,   1.49346000e-01,   1.55223000e-01,\n",
        "         1.60902000e-01,   1.69406000e-01,   1.83582000e-01,\n",
        "         1.92772000e-01,   1.99107000e-01,   2.07917000e-01,\n",
        "         2.18980000e-01,   2.24834000e-01,   2.28807000e-01,\n",
        "         2.28834000e-01,   2.28851000e-01,   2.32272000e-01,\n",
        "         2.47665000e-01,   2.60721000e-01,   2.69491000e-01,\n",
        "         2.77787000e-01,   2.86525000e-01,   2.95251000e-01,\n",
        "         3.03786000e-01,   3.12412000e-01,   3.20788000e-01,\n",
        "         3.28606000e-01,   3.35689000e-01,   3.45583000e-01,\n",
        "         3.55016000e-01,   3.64635000e-01,   3.74740000e-01,\n",
        "         3.83871000e-01,   3.96374000e-01,   4.20446000e-01,\n",
        "         4.36756000e-01,   4.49877000e-01,   4.66706000e-01,\n",
        "         4.97313000e-01,   5.05926000e-01,   5.32346000e-01,\n",
        "         5.64841000e-01,   5.50892000e-01,   5.98351000e-01,\n",
        "         6.17782000e-01,   6.72248000e-01,   6.96237000e-01,\n",
        "         6.99460000e-01,   7.01140000e-01,   7.19296000e-01,\n",
        "         7.33180000e-01,   7.24884000e-01,   7.69404000e-01,\n",
        "         7.77250000e-01,   8.32799000e-01,   9.33925000e-01,\n",
        "         1.01020000e+00,   1.07310000e+00,   1.21651000e+00,\n",
        "         1.27445000e+00,   1.30837000e+00,   1.52976000e+00,\n",
        "         1.62957000e+00,   1.69051000e+00,   1.74094000e+00,\n",
        "         1.83856000e+00,   1.95794000e+00,   1.97871000e+00,\n",
        "         2.60955000e+00,   2.70133000e+00,   2.82330000e+00,\n",
        "         3.85308000e+00,   4.03064000e+00,   3.91338000e+00,\n",
        "         4.59505000e+00,   4.20223000e+00,   5.61362000e+00,\n",
        "         7.39548000e+00,   8.33983000e+00,   1.02707000e+01,\n",
        "         1.11389000e+01,   1.29232000e+01,   8.42540000e+00,\n",
        "         2.31086000e+01,   1.80067000e+01,   3.46571000e+01,\n",
        "         1.94390000e+01,   4.63772000e+01,   1.76541000e+01,\n",
        "         6.54149000e+01,   3.43397000e+01,   2.86602000e+01,\n",
        "         2.89308000e+01,   1.97519000e+01,   1.58082000e+01,\n",
        "         3.79141000e+00,   1.33372000e+01,   3.45039000e+00,\n",
        "         1.42551000e+01,   1.37460000e+01,   7.05691000e+00,\n",
        "         8.53781000e+00,   1.27605000e+01,   3.89028000e+01,\n",
        "         9.05356000e+01])"
       ]
      }
     ],
     "prompt_number": 2
    },
    {
     "cell_type": "markdown",
     "metadata": {},
     "source": [
      "The data source also provides a method to re-discretize this data to another group structure."
     ]
    },
    {
     "cell_type": "code",
     "collapsed": false,
     "input": [
      "import numpy as np\n",
      "dst_e_g = np.logspace(1, -7, 11)\n",
      "\n",
      "# dst_group_struct is the group structure of the destination cross sections.\n",
      "eds.dst_group_struct = dst_e_g\n",
      "\n",
      "# discreatizes the reaction channel from the source group structure to that of the\n",
      "# destination, weighted by the group fluxes.\n",
      "gamma_c = eds.discretize('U235', 'gamma')\n",
      "print gamma_c\n",
      "print dst_e_g"
     ],
     "language": "python",
     "metadata": {},
     "outputs": [
      {
       "output_type": "stream",
       "stream": "stdout",
       "text": [
        "[  2.52625773e-02   1.50668227e-01   3.94173552e-01   8.29069757e-01\n",
        "   2.08402584e+00   5.56199103e+00   1.73480167e+01   3.37415300e+01\n",
        "   1.01908466e+01   2.15494273e+01]\n",
        "[  1.00000000e+01   1.58489319e+00   2.51188643e-01   3.98107171e-02\n",
        "   6.30957344e-03   1.00000000e-03   1.58489319e-04   2.51188643e-05\n",
        "   3.98107171e-06   6.30957344e-07   1.00000000e-07]\n"
       ]
      }
     ],
     "prompt_number": 3
    },
    {
     "cell_type": "markdown",
     "metadata": {},
     "source": [
      "Now let's plot it!"
     ]
    },
    {
     "cell_type": "code",
     "collapsed": false,
     "input": [
      "from pyne.bins import stair_step\n",
      "%matplotlib inline\n",
      "import matplotlib.pyplot as plt\n",
      "import matplotlib\n",
      "matplotlib.rc('font', family='serif', size=14)\n"
     ],
     "language": "python",
     "metadata": {},
     "outputs": [],
     "prompt_number": 6
    },
    {
     "cell_type": "code",
     "collapsed": false,
     "input": [
      "fig = plt.figure(figsize=(7,7))\n",
      "plt.loglog(*stair_step(eds.src_group_struct, gamma), figure=fig) # original\n",
      "plt.loglog(*stair_step(eds.dst_group_struct, gamma_c), figure=fig) # new group structure\n",
      "plt.xlabel('E [MeV]')\n",
      "plt.ylabel('Cross Section [barns]')\n",
      "plt.legend(('original', 'rediscretized'))"
     ],
     "language": "python",
     "metadata": {},
     "outputs": [
      {
       "metadata": {},
       "output_type": "pyout",
       "prompt_number": 13,
       "text": [
        "<matplotlib.legend.Legend at 0x7f48e08631d0>"
       ]
      },
      {
       "metadata": {},
       "output_type": "display_data",
       "png": "[encoded data removed]",
       "text": [
        "<matplotlib.figure.Figure at 0x7f48e09b0f90>"
       ]
      }
     ],
     "prompt_number": 13
    },
    {
     "cell_type": "markdown",
     "metadata": {},
     "source": [
      "### Simple Data Source\n",
      "\n",
      "This interface is independent of where the data came from. As it should be!"
     ]
    },
    {
     "cell_type": "code",
     "collapsed": false,
     "input": [
      "sds = SimpleDataSource(dst_group_struct=dst_e_g)\n",
      "print sds.exists\n",
      "rx = sds.reaction('U233', 'absorption') # cross section data\n",
      "rxc = sds.discretize('U233', 'absorption') # discretization of data"
     ],
     "language": "python",
     "metadata": {},
     "outputs": [
      {
       "output_type": "stream",
       "stream": "stdout",
       "text": [
        "True\n"
       ]
      }
     ],
     "prompt_number": 8
    },
    {
     "cell_type": "code",
     "collapsed": false,
     "input": [
      "fig = plt.figure(figsize=(7,7))\n",
      "plt.loglog(sds.src_group_struct[:-1], rx, figure=fig)\n",
      "plt.loglog(sds.dst_group_struct[:-1], rxc, figure=fig)\n",
      "plt.xlabel('E [MeV]')\n",
      "plt.ylabel('Cross Section [barns]')\n",
      "plt.legend(('original', 'rediscretized'))"
     ],
     "language": "python",
     "metadata": {},
     "outputs": [
      {
       "metadata": {},
       "output_type": "pyout",
       "prompt_number": 12,
       "text": [
        "<matplotlib.legend.Legend at 0x7f48e0b22210>"
       ]
      },
      {
       "metadata": {},
       "output_type": "display_data",
       "png": "[encoded data removed]",
       "text": [
        "<matplotlib.figure.Figure at 0x7f48e0e0abd0>"
       ]
      }
     ],
     "prompt_number": 12
    },
    {
     "cell_type": "markdown",
     "metadata": {},
     "source": [
      "Since data sources are caches, subsequent requests for \n",
      "the same data are very fast! "
     ]
    },
    {
     "cell_type": "code",
     "collapsed": false,
     "input": [
      "%time sds.reaction('U238', 'fiss')\n",
      "print\n",
      "%time sds.reaction('U238', 'fission')\n",
      "print\n",
      "%time sds.reaction('U238', 'fiss')\n",
      "print"
     ],
     "language": "python",
     "metadata": {},
     "outputs": [
      {
       "output_type": "stream",
       "stream": "stdout",
       "text": [
        "CPU times: user 16.7 ms, sys: 1.32 ms, total: 18.1 ms\n",
        "Wall time: 48.4 ms\n",
        "\n",
        "CPU times: user 46 \u00b5s, sys: 7 \u00b5s, total: 53 \u00b5s\n",
        "Wall time: 73 \u00b5s\n",
        "\n",
        "CPU times: user 36 \u00b5s, sys: 7 \u00b5s, total: 43 \u00b5s\n",
        "Wall time: 61 \u00b5s\n",
        "\n"
       ]
      }
     ],
     "prompt_number": 10
    },
    {
     "cell_type": "markdown",
     "metadata": {},
     "source": [
      "## Cross Section Caching\n",
      "\n",
      "Now suppose you want to perform the same discretization and wish to pull cross sections from many sources (with some precedence) based on whether the data is available or not.  Enter `XSCache`.  This is a class to do exactly that.  \n",
      "\n",
      "This class acts like a dictionary whose keys are `(nuclide, rx)` or `(nuclide, rx, temp)` tuples for the nuclide, reaction id, and temperature that you wish to know.  "
     ]
    },
    {
     "cell_type": "code",
     "collapsed": false,
     "input": [
      "from pyne.xs.cache import XSCache"
     ],
     "language": "python",
     "metadata": {},
     "outputs": [
      {
       "output_type": "stream",
       "stream": "stderr",
       "text": [
        "/home/pyne-user/.local/lib/python2.7/site-packages/pyne/xs/cache.py:19: QAWarning: pyne.xs.cache is not yet QA compliant.\n",
        "  warn(__name__ + \" is not yet QA compliant.\", QAWarning)\n"
       ]
      }
     ],
     "prompt_number": 14
    },
    {
     "cell_type": "code",
     "collapsed": false,
     "input": [
      "xscache = XSCache(group_struct=dst_e_g,\n",
      "                  data_sources=[EAFDataSource, SimpleDataSource, NullDataSource])\n"
     ],
     "language": "python",
     "metadata": {},
     "outputs": [],
     "prompt_number": 16
    },
    {
     "cell_type": "code",
     "collapsed": false,
     "input": [
      "xscache['U235', 'abs']"
     ],
     "language": "python",
     "metadata": {},
     "outputs": [
      {
       "metadata": {},
       "output_type": "pyout",
       "prompt_number": 17,
       "text": [
        "array([   1.94057774,    1.71230641,    2.02444418,    3.24912017,\n",
        "          7.42318537,   20.15919429,   51.8621376 ,   77.11455565,\n",
        "         46.99610069,  155.69532222])"
       ]
      }
     ],
     "prompt_number": 17
    },
    {
     "cell_type": "code",
     "collapsed": false,
     "input": [
      "xscache['H42', 'gamma']"
     ],
     "language": "python",
     "metadata": {},
     "outputs": [
      {
       "metadata": {},
       "output_type": "pyout",
       "prompt_number": 18,
       "text": [
        "array([ 0.,  0.,  0.,  0.,  0.,  0.,  0.,  0.,  0.,  0.])"
       ]
      }
     ],
     "prompt_number": 18
    },
    {
     "cell_type": "markdown",
     "metadata": {},
     "source": [
      "## Reading ACE Files\n",
      "\n",
      "To load data from an ACE file, one needs to simply initialize an instance of the `Library` class specifying the path to the `Library` file:\n",
      "\n",
      "    from pyne import ace\n",
      "    libFile = ace.Library('endf70a')\n",
      "    libFile.read()\n",
      "    "
     ]
    },
    {
     "cell_type": "markdown",
     "metadata": {},
     "source": [
      "## Reading ENDF Files\n",
      "Similarly, ENDF file reading and cross-section discretization is supported."
     ]
    },
    {
     "cell_type": "code",
     "collapsed": false,
     "input": [
      "from pyne.xs.data_source import ENDFDataSource\n",
      "from pyne import nucname\n",
      "from urllib import urlretrieve\n",
      "from os.path import isfile\n",
      "\n",
      "# Download the data file if it isn't there\n",
      "if not isfile(\"Ni59.txt\"):\n",
      "    urlretrieve(\"http://t2.lanl.gov/nis/data/data/ENDFB-VII.1-neutron/Ni/59\",\n",
      "                \"Ni59.txt\")\n",
      "    "
     ],
     "language": "python",
     "metadata": {},
     "outputs": [],
     "prompt_number": 19
    },
    {
     "cell_type": "code",
     "collapsed": false,
     "input": [
      "endfds = ENDFDataSource(\"Ni59.txt\")\n",
      "\n",
      "# get the nonelastic reaction data for Ni-59\n",
      "nonelastic_rx = endfds.reaction(\"Ni59\", \"nonelastic\")\n",
      "\n",
      "# set the group structure and re-discretize\n",
      "nonelastic_rx['dst_group_struct'] = np.logspace(7, -5, 33)\n",
      "nonelastic_c = endfds.discretize(\"Ni59\", \"nonelastic\")\n"
     ],
     "language": "python",
     "metadata": {},
     "outputs": [],
     "prompt_number": 20
    },
    {
     "cell_type": "markdown",
     "metadata": {},
     "source": [
      "Now let's plot it!!\n"
     ]
    },
    {
     "cell_type": "code",
     "collapsed": false,
     "input": [
      "fig = plt.figure(figsize=(7,7))\n",
      "\n",
      "# e_int is the array of energy values over which to integrate\n",
      "E_g = nonelastic_rx['e_int']\n",
      "# xs is the array of cross-sections corresponding to e_int\n",
      "nonelastic = nonelastic_rx['xs']\n",
      "\n",
      "# with base group structure\n",
      "plt.loglog(*stair_step(E_g, nonelastic[:-1]), figure=fig) \n",
      "# discretized with new group structure\n",
      "plt.loglog(*stair_step(nonelastic_rx['dst_group_struct'], nonelastic_c), figure=fig) \n",
      "plt.xlabel('E [MeV]')\n",
      "plt.ylabel('Cross Section [barns]')\n",
      "plt.legend(('original', 'rediscretized'))"
     ],
     "language": "python",
     "metadata": {},
     "outputs": [
      {
       "metadata": {},
       "output_type": "pyout",
       "prompt_number": 22,
       "text": [
        "<matplotlib.legend.Legend at 0x7f48e02b9450>"
       ]
      },
      {
       "metadata": {},
       "output_type": "display_data",
       "png": "[encoded data removed]",
       "text": [
        "<matplotlib.figure.Figure at 0x7f48e0800410>"
       ]
      }
     ],
     "prompt_number": 22
    },
    {
     "cell_type": "markdown",
     "metadata": {},
     "source": [
      "## Cross Section Channels\n",
      "\n",
      "PyNE also provides an easy interface to very quickly grab multigroup cross sections from the cross section cache and collapse them to the appropriate group structure. This is done in the `pyne.xs.channels` module.  This contains functions such as `sigma_f()` for computing the fission cross section.\n",
      "\n",
      "The functions in the channels module are extended from what you would normally be able to see from the cache.  For example, you may compute cross sections for materials, fission energy spectra, metastable ratios, etc."
     ]
    },
    {
     "cell_type": "code",
     "collapsed": false,
     "input": [
      "from pyne.xs import channels\n",
      "from pyne.material import Material, from_atom_frac\n"
     ],
     "language": "python",
     "metadata": {},
     "outputs": [
      {
       "output_type": "stream",
       "stream": "stderr",
       "text": [
        "/home/pyne-user/.local/lib/python2.7/site-packages/pyne/xs/channels.py:21: QAWarning: pyne.material is not yet QA compliant.\n",
        "  from ..material import Material\n",
        "/home/pyne-user/.local/lib/python2.7/site-packages/pyne/xs/channels.py:26: QAWarning: pyne.xs.channels is not yet QA compliant.\n",
        "  warn(__name__ + \" is not yet QA compliant.\", QAWarning)\n"
       ]
      }
     ],
     "prompt_number": 23
    },
    {
     "cell_type": "code",
     "collapsed": false,
     "input": [
      "fuel = from_atom_frac({'U235': 0.045, 'U238': 0.955, 'O16': 2.0}, mass=1.0, density=10.7)\n",
      "\n",
      "# the cross section is mapped to fuel with group structure dist_e_g\n",
      "# the default temp is 300K; this uses a group flux.\n",
      "channels.sigma_f(fuel, group_struct=dst_e_g)"
     ],
     "language": "python",
     "metadata": {},
     "outputs": [
      {
       "metadata": {},
       "output_type": "pyout",
       "prompt_number": 24,
       "text": [
        "array([ 0.21836068,  0.11496041,  0.09857257,  0.09597528,  0.10104627,\n",
        "        0.13585377,  0.22343296,  0.44344517,  0.99609454,  2.38428759])"
       ]
      }
     ],
     "prompt_number": 24
    },
    {
     "cell_type": "code",
     "collapsed": false,
     "input": [],
     "language": "python",
     "metadata": {},
     "outputs": []
    }
   ],
   "metadata": {}
  }
 ]
}