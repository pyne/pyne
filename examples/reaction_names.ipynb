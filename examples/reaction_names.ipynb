{
 "metadata": {
  "name": "reaction_names"
 },
 "nbformat": 3,
 "nbformat_minor": 0,
 "worksheets": [
  {
   "cells": [
    {
     "cell_type": "markdown",
     "metadata": {},
     "source": [
      "# Reaction Names\n",
      "\n",
      "This demonstrates how the rxname module may be used to find and manipulate the PyNE cannonical reaction names."
     ]
    },
    {
     "cell_type": "code",
     "collapsed": false,
     "input": [
      "from pyne.rxname import *"
     ],
     "language": "python",
     "metadata": {},
     "outputs": [],
     "prompt_number": 1
    },
    {
     "cell_type": "code",
     "collapsed": false,
     "input": [
      "print name(\"total\")\n",
      "print name(103)    # MT number for proton production\n",
      "print name(\"abs\")  # an abbreviation for absorption"
     ],
     "language": "python",
     "metadata": {},
     "outputs": [
      {
       "output_type": "stream",
       "stream": "stdout",
       "text": [
        "total\n",
        "p\n",
        "absorption\n"
       ]
      }
     ],
     "prompt_number": 2
    },
    {
     "cell_type": "markdown",
     "metadata": {},
     "source": [
      "Each reaction name has a unique id number"
     ]
    },
    {
     "cell_type": "code",
     "collapsed": false,
     "input": [
      "print id(\"total\")\n",
      "print id(103)    # MT number for proton\n",
      "print id(\"abs\")  # an abbreviation"
     ],
     "language": "python",
     "metadata": {},
     "outputs": [
      {
       "output_type": "stream",
       "stream": "stdout",
       "text": [
        "1313192322\n",
        "1104\n",
        "3163131457\n"
       ]
      }
     ],
     "prompt_number": 3
    },
    {
     "cell_type": "markdown",
     "metadata": {},
     "source": [
      "Each reaction also has labels and documentation strings"
     ]
    },
    {
     "cell_type": "code",
     "collapsed": false,
     "input": [
      "print label('p')\n",
      "print doc('p')"
     ],
     "language": "python",
     "metadata": {},
     "outputs": [
      {
       "output_type": "stream",
       "stream": "stdout",
       "text": [
        "(z,p)\n",
        "(z,p) Production of p\n"
       ]
      }
     ],
     "prompt_number": 4
    },
    {
     "cell_type": "markdown",
     "metadata": {},
     "source": [
      "Where possible, MT numbers may be looked up."
     ]
    },
    {
     "cell_type": "code",
     "collapsed": false,
     "input": [
      "print mt('elastic')\n",
      "print mt('p')"
     ],
     "language": "python",
     "metadata": {},
     "outputs": [
      {
       "output_type": "stream",
       "stream": "stdout",
       "text": [
        "2\n",
        "103\n"
       ]
      }
     ],
     "prompt_number": 5
    },
    {
     "cell_type": "markdown",
     "metadata": {},
     "source": [
      "Finally, nuclides themselves may also be used to look up reactions."
     ]
    },
    {
     "cell_type": "code",
     "collapsed": false,
     "input": [
      "print name(\"U235\", \"U236\")\n",
      "print name(\"U235\", \"Np236\", \"p\")\n",
      "print name(922350, 912350)"
     ],
     "language": "python",
     "metadata": {},
     "outputs": [
      {
       "output_type": "stream",
       "stream": "stdout",
       "text": [
        "absorption\n",
        "absorption\n",
        "p\n"
       ]
      }
     ],
     "prompt_number": 6
    },
    {
     "cell_type": "code",
     "collapsed": false,
     "input": [],
     "language": "python",
     "metadata": {},
     "outputs": [],
     "prompt_number": 6
    }
   ],
   "metadata": {}
  }
 ]
}
