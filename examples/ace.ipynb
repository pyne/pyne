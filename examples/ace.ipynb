{
 "metadata": {
  "name": "pyne-ace-example"
 },
 "nbformat": 3,
 "nbformat_minor": 0,
 "worksheets": [
  {
   "cells": [
    {
     "cell_type": "markdown",
     "metadata": {},
     "source": [
      "ACE Module\n",
      "==========\n",
      "\n",
      "This notebook demonstrates basic usage of the ``pyne.ace`` module."
     ]
    },
    {
     "cell_type": "code",
     "collapsed": false,
     "input": [
      "%pylab inline"
     ],
     "language": "python",
     "metadata": {},
     "outputs": [
      {
       "output_type": "stream",
       "stream": "stdout",
       "text": [
        "\n",
        "Welcome to pylab, a matplotlib-based Python environment [backend: module://IPython.zmq.pylab.backend_inline].\n",
        "For more information, type 'help(pylab)'.\n"
       ]
      }
     ],
     "prompt_number": 1
    },
    {
     "cell_type": "code",
     "collapsed": false,
     "input": [
      "import matplotlib.pyplot\n",
      "import pyne.ace"
     ],
     "language": "python",
     "metadata": {},
     "outputs": [],
     "prompt_number": 2
    },
    {
     "cell_type": "markdown",
     "metadata": {},
     "source": [
      "The main class in ``pyne.ace`` is called ``Library``. It is instantiated using the name of an ACE file, in this case one distributed with MCNP."
     ]
    },
    {
     "cell_type": "code",
     "collapsed": false,
     "input": [
      "lib = pyne.ace.Library('/opt/mcnp/5.1.60/data/endf70j')"
     ],
     "language": "python",
     "metadata": {},
     "outputs": [],
     "prompt_number": 3
    },
    {
     "cell_type": "markdown",
     "metadata": {},
     "source": [
      "One can choose to read all tables in the file or selectively read a subset by specifying an argument to the ``read`` method."
     ]
    },
    {
     "cell_type": "code",
     "collapsed": false,
     "input": [
      "lib.read('92235.70c')"
     ],
     "language": "python",
     "metadata": {},
     "outputs": [],
     "prompt_number": 4
    },
    {
     "cell_type": "markdown",
     "metadata": {},
     "source": [
      "After the call to ``read()``, the Library instance will have a dictionary called ``tables``."
     ]
    },
    {
     "cell_type": "code",
     "collapsed": false,
     "input": [
      "lib.tables"
     ],
     "language": "python",
     "metadata": {},
     "outputs": [
      {
       "output_type": "pyout",
       "prompt_number": 5,
       "text": [
        "{'92235.70c': <ACE Continuous-E Neutron Table: 92235.70c>}"
       ]
      }
     ],
     "prompt_number": 5
    },
    {
     "cell_type": "code",
     "collapsed": false,
     "input": [
      "u235 = lib.tables['92235.70c']"
     ],
     "language": "python",
     "metadata": {},
     "outputs": [],
     "prompt_number": 6
    },
    {
     "cell_type": "markdown",
     "metadata": {},
     "source": [
      "Once a table is selected, we can inspect, e.g., the energy grid and the total cross section."
     ]
    },
    {
     "cell_type": "code",
     "collapsed": false,
     "input": [
      "u235.energy"
     ],
     "language": "python",
     "metadata": {},
     "outputs": [
      {
       "output_type": "pyout",
       "prompt_number": 7,
       "text": [
        "array([  1.00000000e-11,   1.03125000e-11,   1.06250000e-11, ...,\n",
        "         1.90000000e+01,   1.95000000e+01,   2.00000000e+01])"
       ]
      }
     ],
     "prompt_number": 7
    },
    {
     "cell_type": "code",
     "collapsed": false,
     "input": [
      "u235.sigma_t"
     ],
     "language": "python",
     "metadata": {},
     "outputs": [
      {
       "output_type": "pyout",
       "prompt_number": 8,
       "text": [
        "array([  3.74071995e+04,   3.68360601e+04,   3.62903128e+04, ...,\n",
        "         6.15955992e+00,   6.16531927e+00,   6.16967848e+00])"
       ]
      }
     ],
     "prompt_number": 8
    },
    {
     "cell_type": "markdown",
     "metadata": {},
     "source": [
      "To get data on a reaction, such as fission or $(n,2n)$, there is an attribute called ``reactions``."
     ]
    },
    {
     "cell_type": "code",
     "collapsed": false,
     "input": [
      "u235.reactions"
     ],
     "language": "python",
     "metadata": {},
     "outputs": [
      {
       "output_type": "pyout",
       "prompt_number": 9,
       "text": [
        "OrderedDict([(2, <ACE Reaction: MT=2 (z,elastic)>), (16, <ACE Reaction: MT=16 >), (17, <ACE Reaction: MT=17 >), (18, <ACE Reaction: MT=18 >), (37, <ACE Reaction: MT=37 >), (51, <ACE Reaction: MT=51 >), (52, <ACE Reaction: MT=52 >), (53, <ACE Reaction: MT=53 >), (54, <ACE Reaction: MT=54 >), (55, <ACE Reaction: MT=55 >), (56, <ACE Reaction: MT=56 >), (57, <ACE Reaction: MT=57 >), (58, <ACE Reaction: MT=58 >), (59, <ACE Reaction: MT=59 >), (60, <ACE Reaction: MT=60 >), (61, <ACE Reaction: MT=61 >), (62, <ACE Reaction: MT=62 >), (63, <ACE Reaction: MT=63 >), (64, <ACE Reaction: MT=64 >), (65, <ACE Reaction: MT=65 >), (66, <ACE Reaction: MT=66 >), (67, <ACE Reaction: MT=67 >), (68, <ACE Reaction: MT=68 >), (69, <ACE Reaction: MT=69 >), (70, <ACE Reaction: MT=70 >), (71, <ACE Reaction: MT=71 >), (72, <ACE Reaction: MT=72 >), (73, <ACE Reaction: MT=73 >), (74, <ACE Reaction: MT=74 >), (75, <ACE Reaction: MT=75 >), (76, <ACE Reaction: MT=76 >), (77, <ACE Reaction: MT=77 >), (78, <ACE Reaction: MT=78 >), (79, <ACE Reaction: MT=79 >), (80, <ACE Reaction: MT=80 >), (81, <ACE Reaction: MT=81 >), (82, <ACE Reaction: MT=82 >), (83, <ACE Reaction: MT=83 >), (84, <ACE Reaction: MT=84 >), (85, <ACE Reaction: MT=85 >), (86, <ACE Reaction: MT=86 >), (87, <ACE Reaction: MT=87 >), (88, <ACE Reaction: MT=88 >), (89, <ACE Reaction: MT=89 >), (90, <ACE Reaction: MT=90 >), (91, <ACE Reaction: MT=91 >), (102, <ACE Reaction: MT=102 >), (444, <ACE Reaction: MT=444 >), (4, <ACE Reaction: MT=4 >)])"
       ]
      }
     ],
     "prompt_number": 9
    },
    {
     "cell_type": "code",
     "collapsed": false,
     "input": [
      "fission = u235.reactions[18]"
     ],
     "language": "python",
     "metadata": {},
     "outputs": [],
     "prompt_number": 10
    },
    {
     "cell_type": "markdown",
     "metadata": {},
     "source": [
      "An instance of a Reaction contains the reaction cross section and any angular or energy distributions that may be present."
     ]
    },
    {
     "cell_type": "code",
     "collapsed": false,
     "input": [
      "fission.energy_dist"
     ],
     "language": "python",
     "metadata": {},
     "outputs": [
      {
       "output_type": "pyout",
       "prompt_number": 11,
       "text": [
        "<pyne.ace.EnergyDistribution at 0x31b2f50>"
       ]
      }
     ],
     "prompt_number": 11
    },
    {
     "cell_type": "markdown",
     "metadata": {},
     "source": [
      "With the energy grid (stored on the table), and the cross section (stored on the reaction), one can generate plots of the cross section."
     ]
    },
    {
     "cell_type": "code",
     "collapsed": false,
     "input": [
      "plt.loglog(u235.energy, fission.sigma)"
     ],
     "language": "python",
     "metadata": {},
     "outputs": [
      {
       "output_type": "pyout",
       "prompt_number": 12,
       "text": [
        "[<matplotlib.lines.Line2D at 0x4cf4f10>]"
       ]
      },
      {
       "output_type": "display_data",
       "png": "[encoded data removed]"
      }
     ],
     "prompt_number": 12
    }
   ],
   "metadata": {}
  }
 ]
}