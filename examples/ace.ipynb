{
 "cells": [
  {
   "cell_type": "markdown",
   "metadata": {},
   "source": [
    "ACE Module\n",
    "==========\n",
    "\n",
    "This notebook demonstrates basic usage of the ``pyne.ace`` module."
   ]
  },
  {
   "cell_type": "code",
   "execution_count": 1,
   "metadata": {},
   "outputs": [],
   "source": [
    "import os\n",
    "import matplotlib.pyplot as plt\n",
    "import pyne.ace\n",
    "import requests\n",
    "url = \"https://www-nds.iaea.org/wolfram/w180/beta3/W180.ace\"\n",
    "r = requests.get(url)\n",
    "with open(\"W180.ace\", \"wb\") as outfile:\n",
    "    outfile.write(r.content)"
   ]
  },
  {
   "cell_type": "markdown",
   "metadata": {},
   "source": [
    "The main class in ``pyne.ace`` is called ``Library``. It is instantiated using the name of an ACE file, in this case one distributed with MCNP."
   ]
  },
  {
   "cell_type": "code",
   "execution_count": 2,
   "metadata": {},
   "outputs": [],
   "source": [
    "lib = pyne.ace.Library('W180.ace')"
   ]
  },
  {
   "cell_type": "markdown",
   "metadata": {},
   "source": [
    "One can choose to read all tables in the file or selectively read a subset by specifying an argument to the ``read`` method."
   ]
  },
  {
   "cell_type": "code",
   "execution_count": 3,
   "metadata": {},
   "outputs": [],
   "source": [
    "lib.read('74180.21c')"
   ]
  },
  {
   "cell_type": "markdown",
   "metadata": {},
   "source": [
    "After the call to ``read()``, the Library instance will have a dictionary called ``tables``."
   ]
  },
  {
   "cell_type": "code",
   "execution_count": 4,
   "metadata": {},
   "outputs": [
    {
     "data": {
      "text/plain": [
       "{'74180.21c': <ACE Continuous-E Neutron Table: 74180.21c>}"
      ]
     },
     "execution_count": 4,
     "metadata": {},
     "output_type": "execute_result"
    }
   ],
   "source": [
    "lib.tables"
   ]
  },
  {
   "cell_type": "code",
   "execution_count": 5,
   "metadata": {},
   "outputs": [],
   "source": [
    "w180 = lib.tables['74180.21c']"
   ]
  },
  {
   "cell_type": "markdown",
   "metadata": {},
   "source": [
    "Once a table is selected, we can inspect, e.g., the energy grid and the total cross section."
   ]
  },
  {
   "cell_type": "code",
   "execution_count": 6,
   "metadata": {},
   "outputs": [
    {
     "data": {
      "text/plain": [
       "array([1.00000e-11, 1.03125e-11, 1.06250e-11, ..., 5.00000e+01,\n",
       "       5.50000e+01, 6.00000e+01])"
      ]
     },
     "execution_count": 6,
     "metadata": {},
     "output_type": "execute_result"
    }
   ],
   "source": [
    "w180.energy"
   ]
  },
  {
   "cell_type": "code",
   "execution_count": 7,
   "metadata": {},
   "outputs": [
    {
     "data": {
      "text/plain": [
       "array([1544.50481   , 1520.95229   , 1498.44763   , ...,    4.17220824,\n",
       "          4.26476628,    4.3440783 ])"
      ]
     },
     "execution_count": 7,
     "metadata": {},
     "output_type": "execute_result"
    }
   ],
   "source": [
    "w180.sigma_t"
   ]
  },
  {
   "cell_type": "markdown",
   "metadata": {},
   "source": [
    "To get data on a reaction, such as fission or $(n,2n)$, there is an attribute called ``reactions``."
   ]
  },
  {
   "cell_type": "code",
   "execution_count": 8,
   "metadata": {},
   "outputs": [
    {
     "data": {
      "text/plain": [
       "OrderedDict([(2, <ACE Reaction: MT=2 (z,elastic)>),\n",
       "             (5, <ACE Reaction: MT=5 >),\n",
       "             (16, <ACE Reaction: MT=16 >),\n",
       "             (17, <ACE Reaction: MT=17 >),\n",
       "             (22, <ACE Reaction: MT=22 >),\n",
       "             (24, <ACE Reaction: MT=24 >),\n",
       "             (28, <ACE Reaction: MT=28 >),\n",
       "             (41, <ACE Reaction: MT=41 >),\n",
       "             (51, <ACE Reaction: MT=51 >),\n",
       "             (52, <ACE Reaction: MT=52 >),\n",
       "             (53, <ACE Reaction: MT=53 >),\n",
       "             (54, <ACE Reaction: MT=54 >),\n",
       "             (55, <ACE Reaction: MT=55 >),\n",
       "             (56, <ACE Reaction: MT=56 >),\n",
       "             (57, <ACE Reaction: MT=57 >),\n",
       "             (58, <ACE Reaction: MT=58 >),\n",
       "             (59, <ACE Reaction: MT=59 >),\n",
       "             (60, <ACE Reaction: MT=60 >),\n",
       "             (61, <ACE Reaction: MT=61 >),\n",
       "             (62, <ACE Reaction: MT=62 >),\n",
       "             (63, <ACE Reaction: MT=63 >),\n",
       "             (91, <ACE Reaction: MT=91 >),\n",
       "             (102, <ACE Reaction: MT=102 >),\n",
       "             (103, <ACE Reaction: MT=103 >),\n",
       "             (107, <ACE Reaction: MT=107 >),\n",
       "             (203, <ACE Reaction: MT=203 >),\n",
       "             (207, <ACE Reaction: MT=207 >),\n",
       "             (444, <ACE Reaction: MT=444 >),\n",
       "             (600, <ACE Reaction: MT=600 >),\n",
       "             (601, <ACE Reaction: MT=601 >),\n",
       "             (602, <ACE Reaction: MT=602 >),\n",
       "             (603, <ACE Reaction: MT=603 >),\n",
       "             (604, <ACE Reaction: MT=604 >),\n",
       "             (605, <ACE Reaction: MT=605 >),\n",
       "             (606, <ACE Reaction: MT=606 >),\n",
       "             (607, <ACE Reaction: MT=607 >),\n",
       "             (608, <ACE Reaction: MT=608 >),\n",
       "             (609, <ACE Reaction: MT=609 >),\n",
       "             (610, <ACE Reaction: MT=610 >),\n",
       "             (611, <ACE Reaction: MT=611 >),\n",
       "             (612, <ACE Reaction: MT=612 >),\n",
       "             (613, <ACE Reaction: MT=613 >),\n",
       "             (614, <ACE Reaction: MT=614 >),\n",
       "             (615, <ACE Reaction: MT=615 >),\n",
       "             (616, <ACE Reaction: MT=616 >),\n",
       "             (617, <ACE Reaction: MT=617 >),\n",
       "             (618, <ACE Reaction: MT=618 >),\n",
       "             (619, <ACE Reaction: MT=619 >),\n",
       "             (620, <ACE Reaction: MT=620 >),\n",
       "             (621, <ACE Reaction: MT=621 >),\n",
       "             (622, <ACE Reaction: MT=622 >),\n",
       "             (623, <ACE Reaction: MT=623 >),\n",
       "             (624, <ACE Reaction: MT=624 >),\n",
       "             (649, <ACE Reaction: MT=649 >),\n",
       "             (800, <ACE Reaction: MT=800 >),\n",
       "             (801, <ACE Reaction: MT=801 >),\n",
       "             (802, <ACE Reaction: MT=802 >),\n",
       "             (803, <ACE Reaction: MT=803 >),\n",
       "             (804, <ACE Reaction: MT=804 >),\n",
       "             (805, <ACE Reaction: MT=805 >),\n",
       "             (806, <ACE Reaction: MT=806 >),\n",
       "             (807, <ACE Reaction: MT=807 >),\n",
       "             (808, <ACE Reaction: MT=808 >),\n",
       "             (809, <ACE Reaction: MT=809 >),\n",
       "             (810, <ACE Reaction: MT=810 >),\n",
       "             (811, <ACE Reaction: MT=811 >),\n",
       "             (812, <ACE Reaction: MT=812 >),\n",
       "             (813, <ACE Reaction: MT=813 >),\n",
       "             (814, <ACE Reaction: MT=814 >),\n",
       "             (815, <ACE Reaction: MT=815 >),\n",
       "             (816, <ACE Reaction: MT=816 >),\n",
       "             (817, <ACE Reaction: MT=817 >),\n",
       "             (818, <ACE Reaction: MT=818 >),\n",
       "             (819, <ACE Reaction: MT=819 >),\n",
       "             (820, <ACE Reaction: MT=820 >),\n",
       "             (821, <ACE Reaction: MT=821 >),\n",
       "             (822, <ACE Reaction: MT=822 >),\n",
       "             (823, <ACE Reaction: MT=823 >),\n",
       "             (824, <ACE Reaction: MT=824 >),\n",
       "             (825, <ACE Reaction: MT=825 >),\n",
       "             (826, <ACE Reaction: MT=826 >),\n",
       "             (827, <ACE Reaction: MT=827 >),\n",
       "             (828, <ACE Reaction: MT=828 >),\n",
       "             (829, <ACE Reaction: MT=829 >),\n",
       "             (830, <ACE Reaction: MT=830 >),\n",
       "             (831, <ACE Reaction: MT=831 >),\n",
       "             (832, <ACE Reaction: MT=832 >),\n",
       "             (833, <ACE Reaction: MT=833 >),\n",
       "             (834, <ACE Reaction: MT=834 >),\n",
       "             (849, <ACE Reaction: MT=849 >)])"
      ]
     },
     "execution_count": 8,
     "metadata": {},
     "output_type": "execute_result"
    }
   ],
   "source": [
    "w180.reactions"
   ]
  },
  {
   "cell_type": "code",
   "execution_count": 9,
   "metadata": {},
   "outputs": [],
   "source": [
    "elastic = w180.reactions[2]"
   ]
  },
  {
   "cell_type": "markdown",
   "metadata": {},
   "source": [
    "An instance of a Reaction contains the reaction cross section and any angular or energy distributions that may be present."
   ]
  },
  {
   "cell_type": "code",
   "execution_count": 10,
   "metadata": {},
   "outputs": [
    {
     "data": {
      "text/plain": [
       "array([43.83981, 43.20029, 42.58963, ...,  1.9508 ,  2.0991 ,  2.2343 ])"
      ]
     },
     "execution_count": 10,
     "metadata": {},
     "output_type": "execute_result"
    }
   ],
   "source": [
    "elastic.sigma"
   ]
  },
  {
   "cell_type": "markdown",
   "metadata": {},
   "source": [
    "With the energy grid (stored on the table), and the cross section (stored on the reaction), one can generate plots of the cross section."
   ]
  },
  {
   "cell_type": "code",
   "execution_count": 11,
   "metadata": {},
   "outputs": [
    {
     "data": {
      "text/plain": [
       "[<matplotlib.lines.Line2D at 0x7f5e13830ef0>]"
      ]
     },
     "execution_count": 11,
     "metadata": {},
     "output_type": "execute_result"
    },
    {
     "data": {
      "image/png": "[encoded data removed]",
      "text/plain": [
       "<Figure size 432x288 with 1 Axes>"
      ]
     },
     "metadata": {
      "needs_background": "light"
     },
     "output_type": "display_data"
    }
   ],
   "source": [
    "plt.loglog(w180.energy, elastic.sigma)"
   ]
  },
  {
   "cell_type": "code",
   "execution_count": null,
   "metadata": {},
   "outputs": [],
   "source": []
  }
 ],
 "metadata": {
  "kernelspec": {
   "display_name": "Python 3",
   "language": "python",
   "name": "python3"
  },
  "language_info": {
   "codemirror_mode": {
    "name": "ipython",
    "version": 3
   },
   "file_extension": ".py",
   "mimetype": "text/x-python",
   "name": "python",
   "nbconvert_exporter": "python",
   "pygments_lexer": "ipython3",
   "version": "3.6.9"
  }
 },
 "nbformat": 4,
 "nbformat_minor": 1
}
