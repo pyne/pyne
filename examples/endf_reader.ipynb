{
 "metadata": {
  "name": "endf_reader"
 },
 "nbformat": 3,
 "nbformat_minor": 0,
 "worksheets": [
  {
   "cells": [
    {
     "cell_type": "markdown",
     "metadata": {},
     "source": [
      "# ENDF Reader\n",
      "\n",
      "Below is an example of how to grab and graph cross section data from ENDF files."
     ]
    },
    {
     "cell_type": "code",
     "collapsed": false,
     "input": [
      "from pyne.endf import Library\n",
      "import matplotlib.pyplot as plt\n",
      "import os"
     ],
     "language": "python",
     "metadata": {},
     "outputs": []
    },
    {
     "cell_type": "code",
     "collapsed": false,
     "input": [
      "if not os.path.isfile(\"U235-VII.txt\"):\n",
      "    from urllib import urlretrieve\n",
      "    urlretrieve(\"http://t2.lanl.gov/nis/data/data/ENDFB-VII-neutron/U/235\", \"U235-VII.txt\")"
     ],
     "language": "python",
     "metadata": {},
     "outputs": [],
     "prompt_number": 7
    },
    {
     "cell_type": "code",
     "collapsed": false,
     "input": [
      "u235 = Library(\"U235-VII.txt\")\n",
      "u235._read_res(922350)\n",
      "xs_data = u235.get_xs(922350, 16)[0]"
     ],
     "language": "python",
     "metadata": {},
     "outputs": [],
     "prompt_number": 9
    },
    {
     "cell_type": "code",
     "collapsed": false,
     "input": [
      "fig = plt.figure()\n",
      "Eints, sigmas = xs_data['Eint'], xs_data['xs']\n",
      "plt.step(Eints, sigmas, where = \"pre\")\n",
      "plt.suptitle(r'Production of 2n in $^{235}$U')\n",
      "plt.ylabel(r'$\\sigma(E)$ (barns)')\n",
      "plt.xlabel(r'$E_{int} (eV)$')\n",
      "plt.xscale('log')\n",
      "plt.yscale('log')"
     ],
     "language": "python",
     "metadata": {},
     "outputs": [
      {
       "output_type": "display_data",
       "png": "[encoded data removed]"
      }
     ],
     "prompt_number": 10
    },
    {
     "cell_type": "code",
     "collapsed": false,
     "input": [],
     "language": "python",
     "metadata": {},
     "outputs": []
    }
   ],
   "metadata": {}
  }
 ]
}