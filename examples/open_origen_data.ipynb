{
 "metadata": {
  "name": ""
 },
 "nbformat": 3,
 "nbformat_minor": 0,
 "worksheets": [
  {
   "cells": [
    {
     "cell_type": "markdown",
     "metadata": {},
     "source": [
      "# Open ORIGEN data generation\n",
      "\n",
      "This notebook generates data for the ORIGEN v2.2 TAPE9.INP file. The data format is described in http://web.ornl.gov/info/reports/1980/3445605762840.pdf on pages 63-66 in the text. "
     ]
    },
    {
     "cell_type": "code",
     "collapsed": false,
     "input": [
      "import pyne.ensdf\n",
      "reload(pyne.ensdf)"
     ],
     "language": "python",
     "metadata": {},
     "outputs": [
      {
       "metadata": {},
       "output_type": "pyout",
       "prompt_number": 10,
       "text": [
        "<module 'pyne.ensdf' from '/Users/cameronbates/Dropbox/Python/virtual/pyne/lib/python2.7/site-packages/pyne/ensdf.pyc'>"
       ]
      }
     ],
     "prompt_number": 10
    },
    {
     "cell_type": "code",
     "collapsed": false,
     "input": [
      "import numpy as np"
     ],
     "language": "python",
     "metadata": {},
     "outputs": [],
     "prompt_number": 11
    },
    {
     "cell_type": "markdown",
     "metadata": {},
     "source": [
      "## Parse data from ensdf files\n",
      "This uses the origen_data function which scrapes the required data from ensdf files."
     ]
    },
    {
     "cell_type": "code",
     "collapsed": false,
     "input": [
      "final_list = []\n",
      "dlfinal = []\n",
      "for i in range(1,295):\n",
      "    if i < 10:\n",
      "        istr = '00' + str(i)\n",
      "    elif i < 100:\n",
      "        istr = '0' + str(i)\n",
      "    else:\n",
      "        istr = str(i)\n",
      "    tlist, dlist = pyne.ensdf.origen_data('../build_nuc_data/ENSDF/ensdf.'+ istr)\n",
      "    for item in tlist:\n",
      "        final_list.append(item)\n",
      "    for item in dlist:\n",
      "        dlfinal.append(item)"
     ],
     "language": "python",
     "metadata": {},
     "outputs": [],
     "prompt_number": 12
    },
    {
     "cell_type": "code",
     "collapsed": false,
     "input": [
      "def getnuc(nid='241AM',meta_t = 1.0):\n",
      "    \"\"\"\n",
      "    This computes ORIGEN data based on ENSDF data. It is necessary to run \n",
      "    the previous cells so that dlfinal and final_list are in the global\n",
      "    namespace.\n",
      "\n",
      "    Parameters\n",
      "    ----------\n",
      "    nid : nuc_id\n",
      "        a valid string or int that can be converted into a nuc_id\n",
      "    meta_t : float\n",
      "        minimum lifetime of metastable state (in seconds) to be included (default 1.0 s)\n",
      "\n",
      "    Returns\n",
      "    -------\n",
      "    nuc_id : int\n",
      "        nuc_id of parent\n",
      "    t12 : float\n",
      "        half life of parent in seconds\n",
      "    fb : float\n",
      "        percent of B- decays per decay of parent \n",
      "    fbx : float\n",
      "        percent of B- decays that end in metastable state\n",
      "    fsf : float\n",
      "        percent of spontaneous fission decays per decay of parent\n",
      "    fpec : float\n",
      "        percent of B+ and EC decays per decay of parent\n",
      "    fpecx : float\n",
      "        percent of B+ and EC decays that end in metastable state\n",
      "    fa : float\n",
      "        percent of A decays per decay of parent\n",
      "    fn : float\n",
      "        percent of B- + neutron decays per decay of parent\n",
      "    fit : float\n",
      "        percent of internal transition decays per decay of parent\n",
      "    \"\"\"\n",
      "    fb = 0\n",
      "    fbx = 0\n",
      "    fsf = 0\n",
      "    fpec = 0\n",
      "    fpecx = 0\n",
      "    fa = 0\n",
      "    fn = 0\n",
      "    fit = 0\n",
      "    longest = 0\n",
      "    longest2 = 0\n",
      "    t12 = 0\n",
      "    for item in final_list:\n",
      "        if item[3] is not None and item[3] > meta_t and item[4] > 0 and item[3] != np.inf:\n",
      "            if pyne.nucname.id(nid) == item[0]:\n",
      "                if item[2] == 0:\n",
      "                    if 'B-' in item[5]:\n",
      "                        fbx += item[6]\n",
      "                    if 'B+' in item[5] or \"EC\" in item[5]:\n",
      "                        fpecx += item[6]\n",
      "    \n",
      "    for item in final_list:\n",
      "        if item[3] is not None and item[3] > meta_t and item[4] > 0 and item[3] != np.inf:\n",
      "            if pyne.nucname.id(nid) - 1  == item[0]:\n",
      "                if item[1] == longest2:\n",
      "                    if item[2] > 0:\n",
      "                        if 'B-' in item[5]:\n",
      "                            fbx += item[6]*item[8]\n",
      "                        if 'B+' in item[5] or \"EC\" in item[5]:\n",
      "                            fpecx += item[6]*item[8]\n",
      "                elif item[1] > longest2:\n",
      "                    longest2 = item[1]\n",
      "                    if item[2] > 0:\n",
      "                        if 'B-' in item[5]:\n",
      "                            fbx = item[6]*item[8]\n",
      "                        if 'B+' in item[5] or \"EC\" in item[5]:\n",
      "                            fpecx = item[6]*item[8]\n",
      "    for item in dlfinal:\n",
      "        if pyne.nucname.id(nid) == item[0]:\n",
      "            if item[1] == 0:\n",
      "                if item[2] > meta_t:\n",
      "                    if \"%SF\" in item[3] and item[3][\"%SF\"] != '?':\n",
      "                        fsf = float(item[3][\"%SF\"])\n",
      "                    if \"%EC\" in item[3] and item[3][\"%EC\"] != '?': \n",
      "                        fpec = float(item[3][\"%EC\"])\n",
      "                    if \"%B+\" in item[3] and item[3][\"%B+\"] != '?':\n",
      "                        fpec += float(item[3][\"%B+\"])\n",
      "                    if \"%EC+%B+\" in item[3] and item[3][\"%EC+%B+\"] != '?':\n",
      "                        fpec += float(item[3][\"%EC+%B+\"])\n",
      "                    if \"%B-N\" in item[3]  and item[3][\"%B-N\"] != '?':\n",
      "                        fn = float(item[3][\"%B-N\"])\n",
      "                    if \"%A\" in item[3]  and item[3][\"%A\"] != '?':\n",
      "                        fa = float(item[3][\"%A\"])\n",
      "                    if \"%IT\" in item[3]  and item[3][\"%IT\"] != '?':\n",
      "                        fit = float(item[3][\"%IT\"])\n",
      "                    if \"%B-\" in item[3]  and item[3][\"%B-\"] != '?':\n",
      "                        fb = float(item[3][\"%B-\"])\n",
      "                    t12 = item[2]\n",
      "        if pyne.nucname.id(nid)-1 == item[0]:\n",
      "            if item[2] > meta_t and item[2] > longest and item[1] != 0:\n",
      "                longest = item[2]\n",
      "                t12 = item[2]\n",
      "                if \"%SF\" in item[3] and item[3][\"%SF\"] != '?':\n",
      "                    fsf = float(item[3][\"%SF\"])\n",
      "                if \"%EC\" in item[3] and item[3][\"%EC\"] != '?': \n",
      "                    fpec = float(item[3][\"%EC\"])\n",
      "                if \"%B+\" in item[3] and item[3][\"%B+\"] != '?':\n",
      "                    fpec += float(item[3][\"%B+\"])\n",
      "                if \"%EC+%B+\" in item[3] and item[3][\"%EC+%B+\"] != '?':\n",
      "                    fpec += float(item[3][\"%EC+%B+\"])\n",
      "                if \"%B-N\" in item[3]  and item[3][\"%B-N\"] != '?':\n",
      "                    fn = float(item[3][\"%B-N\"])\n",
      "                if \"%A\" in item[3]  and item[3][\"%A\"] != '?':\n",
      "                    fa = float(item[3][\"%A\"])\n",
      "                if \"%IT\" in item[3]  and item[3][\"%IT\"] != '?':\n",
      "                    fit = float(item[3][\"%IT\"])\n",
      "                if \"%B-\" in item[3]  and item[3][\"%B-\"] != '?':\n",
      "                    fb = float(item[3][\"%B-\"])\n",
      "            \n",
      "    return pyne.nucname.id(nid), t12, fb, fbx, fsf, fpec, fpecx, fa, fn, fit"
     ],
     "language": "python",
     "metadata": {},
     "outputs": [],
     "prompt_number": 13
    },
    {
     "cell_type": "code",
     "collapsed": false,
     "input": [
      "getnuc(390850000,1E-6)"
     ],
     "language": "python",
     "metadata": {},
     "outputs": [
      {
       "metadata": {},
       "output_type": "pyout",
       "prompt_number": 14,
       "text": [
        "(390850000, 9648.0, 0, 0, 0, 100.0, 45.0, 0, 0, 0)"
       ]
      }
     ],
     "prompt_number": 14
    },
    {
     "cell_type": "code",
     "collapsed": false,
     "input": [],
     "language": "python",
     "metadata": {},
     "outputs": []
    }
   ],
   "metadata": {}
  }
 ]
}