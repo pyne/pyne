{
 "metadata": {
  "name": ""
 },
 "nbformat": 3,
 "nbformat_minor": 0,
 "worksheets": [
  {
   "cells": [
    {
     "cell_type": "code",
     "collapsed": false,
     "input": [
      "import pyne.ensdf\n",
      "reload(pyne.ensdf)"
     ],
     "language": "python",
     "metadata": {},
     "outputs": [
      {
       "metadata": {},
       "output_type": "pyout",
       "prompt_number": 12,
       "text": [
        "<module 'pyne.ensdf' from '/Users/cameronbates/Dropbox/Python/virtual/pyne/lib/python2.7/site-packages/pyne/ensdf.pyc'>"
       ]
      }
     ],
     "prompt_number": 12
    },
    {
     "cell_type": "code",
     "collapsed": false,
     "input": [
      "final_list = []\n",
      "dlfinal = []\n",
      "for i in range(1,295):\n",
      "    if i < 10:\n",
      "        istr = '00' + str(i)\n",
      "    elif i < 100:\n",
      "        istr = '0' + str(i)\n",
      "    else:\n",
      "        istr = str(i)\n",
      "    tlist, dlist = pyne.ensdf.origen_data('build_nuc_data/ENSDF/ensdf.'+ istr)\n",
      "    for item in tlist:\n",
      "        final_list.append(item)\n",
      "    for item in dlist:\n",
      "        dlfinal.append(item)"
     ],
     "language": "python",
     "metadata": {},
     "outputs": [
      {
       "output_type": "stream",
       "stream": "stdout",
       "text": [
        "28SI(36AR,APG):PROMPT\n",
        "163DY[+66]"
       ]
      },
      {
       "output_type": "stream",
       "stream": "stdout",
       "text": [
        "\n",
        "187RE[+75]"
       ]
      },
      {
       "output_type": "stream",
       "stream": "stdout",
       "text": [
        "\n"
       ]
      }
     ],
     "prompt_number": 13
    },
    {
     "cell_type": "code",
     "collapsed": false,
     "input": [
      "def getnuc(nid='241AM',meta_t = 1.0):\n",
      "    \"\"\"\n",
      "    \n",
      "    \"\"\"\n",
      "    fb = 0\n",
      "    fbx = 0\n",
      "    fsf = 0\n",
      "    fpec = 0\n",
      "    fpecx = 0\n",
      "    fa = 0\n",
      "    fn = 0\n",
      "    fit = 0\n",
      "    longest = 0\n",
      "    for item in final_list:\n",
      "        if pyne.nucname.id(nid) == item[2]:\n",
      "            if item[5] == 0:\n",
      "                #print item\n",
      "                if 'B-' in item[0] and item[6]:\n",
      "                    fbx += item[4]\n",
      "                if 'B+' in item[0] or \"EC\" in item[0]:\n",
      "                    if item[6]:\n",
      "                        fpecx += item[4]\n",
      "    \n",
      "    for item in dlfinal:\n",
      "        if pyne.nucname.id(nid) == item[0]:\n",
      "            if item[1] == 0:\n",
      "                if item[2] > meta_t:\n",
      "                    if \"%SF\" in item[3] and item[3][\"%SF\"] != '?':\n",
      "                        fsf = float(item[3][\"%SF\"])\n",
      "                    if \"%EC\" in item[3] and item[3][\"%EC\"] != '?': \n",
      "                        fpec += float(item[3][\"%EC\"])\n",
      "                    if \"%B+\" in item[3] and item[3][\"%B+\"] != '?':\n",
      "                        fpec += float(item[3][\"%B+\"])\n",
      "                    if \"%EC+%B+\" in item[3] and item[3][\"%EC+%B+\"] != '?':\n",
      "                        fpec += float(item[3][\"%EC+%B+\"])\n",
      "                    if \"%B-N\" in item[3]  and item[3][\"%B-N\"]:\n",
      "                        fn = float(item[3][\"%B-N\"])\n",
      "                    if \"%A\" in item[3]  and item[3][\"%A\"]:\n",
      "                        fa = float(item[3][\"%A\"])\n",
      "                    if \"%IT\" in item[3]  and item[3][\"%IT\"]:\n",
      "                        fit = float(item[3][\"%IT\"])\n",
      "                    if \"%B-\" in item[3]  and item[3][\"%B-\"]:\n",
      "                        fb = float(item[3][\"%B-\"])\n",
      "                    t12 = item[2]\n",
      "        if pyne.nucname.id(nid)-1 == item[0]:\n",
      "            if item[2] > meta_t and item[2] > longest and item[1] != 0:\n",
      "                longest = item[2]\n",
      "                t12 = item[2]\n",
      "                if \"%SF\" in item[3] and item[3][\"%SF\"] != '?':\n",
      "                    fsf = float(item[3][\"%SF\"])\n",
      "                if \"%EC\" in item[3] and item[3][\"%EC\"] != '?': \n",
      "                    fpec += float(item[3][\"%EC\"])\n",
      "                if \"%B+\" in item[3] and item[3][\"%B+\"] != '?':\n",
      "                    fpec += float(item[3][\"%B+\"])\n",
      "                if \"%EC+%B+\" in item[3] and item[3][\"%EC+%B+\"] != '?':\n",
      "                    fpec += float(item[3][\"%EC+%B+\"])\n",
      "                if \"%B-N\" in item[3]  and item[3][\"%B-N\"]:\n",
      "                    fn = float(item[3][\"%B-N\"])\n",
      "                if \"%A\" in item[3]  and item[3][\"%A\"]:\n",
      "                    fa = float(item[3][\"%A\"])\n",
      "                if \"%IT\" in item[3]  and item[3][\"%IT\"]:\n",
      "                    fit = float(item[3][\"%IT\"])\n",
      "                if \"%B-\" in item[3]  and item[3][\"%B-\"]:\n",
      "                    fb = float(item[3][\"%B-\"])\n",
      "            \n",
      "    return pyne.nucname.id(nid), t12, fb, fbx*100.0, fsf, fpec, fpecx*100.0, fa, fn, fit"
     ],
     "language": "python",
     "metadata": {},
     "outputs": [],
     "prompt_number": 61
    },
    {
     "cell_type": "code",
     "collapsed": false,
     "input": [
      "getnuc('PU242',1E-6)"
     ],
     "language": "python",
     "metadata": {},
     "outputs": [
      {
       "metadata": {},
       "output_type": "pyout",
       "prompt_number": 62,
       "text": [
        "(942420000, 11834100000000.0, 0, 0.0, 0.00055, 0, 0.0, 100.0, 0, 0)"
       ]
      }
     ],
     "prompt_number": 62
    },
    {
     "cell_type": "code",
     "collapsed": false,
     "input": [],
     "language": "python",
     "metadata": {},
     "outputs": []
    }
   ],
   "metadata": {}
  }
 ]
}